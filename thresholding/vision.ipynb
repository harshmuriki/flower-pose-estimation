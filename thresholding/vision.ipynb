{
 "cells": [
  {
   "cell_type": "code",
   "execution_count": 1,
   "metadata": {},
   "outputs": [
    {
     "name": "stdout",
     "output_type": "stream",
     "text": [
      "Jupyter environment detected. Enabling Open3D WebVisualizer.\n",
      "[Open3D INFO] WebRTC GUI backend enabled.\n",
      "[Open3D INFO] WebRTCWindowSystem: HTTP handshake server disabled.\n"
     ]
    }
   ],
   "source": [
    "import cv2\n",
    "import open3d as o3d\n",
    "import numpy as np\n",
    "import colorsys\n",
    "import pyransac3d as pyrsc"
   ]
  },
  {
   "cell_type": "code",
   "execution_count": 2,
   "metadata": {},
   "outputs": [],
   "source": [
    "def visualizer(cloud):\n",
    "    o3d.visualization.draw_geometries([cloud],\n",
    "                                  zoom=0.5,\n",
    "                                  front=[1, 0, 0],\n",
    "                                  lookat=[0, 0, 0],\n",
    "                                  up=[0, 0, 1])\n"
   ]
  },
  {
   "cell_type": "code",
   "execution_count": 98,
   "metadata": {},
   "outputs": [
    {
     "name": "stdout",
     "output_type": "stream",
     "text": [
      "PointCloud with 1181860 points.\n"
     ]
    }
   ],
   "source": [
    "def display_inlier_outlier(cloud, ind):\n",
    "    inlier_cloud = cloud.select_by_index(ind)\n",
    "    outlier_cloud = cloud.select_by_index(ind, invert=True)\n",
    "\n",
    "    print(\"Showing outliers (red) and inliers (gray): \")\n",
    "    # outlier_cloud.paint_uniform_color([1, 0, 0])\n",
    "    # inlier_cloud.paint_uniform_color([0.8, 0.8, 0.8])\n",
    "    o3d.visualization.draw_geometries([inlier_cloud],\n",
    "                                       zoom=0.5,\n",
    "                                  front=[1, 0, 0],\n",
    "                                  lookat=[0, 0, 0],\n",
    "                                  up=[0, 0, 1])\n",
    "\n",
    "pcd = o3d.io.read_point_cloud(\"3dmodels/Strawberry_2_Gaussian_Splat.ply\")\n",
    "\n",
    "print(pcd)\n",
    "\n",
    "\n",
    "# o3d.visualization.draw_geometries([downpcd],\n",
    "#                                   zoom=0.5,\n",
    "#                                   front=[1, 0, 0],\n",
    "#                                   lookat=[0, 0, 0],\n",
    "#                                   up=[0, 0, 1])\n",
    "\n",
    "# visualizer(pcd)\n",
    "downpcd = pcd\n",
    "\n",
    "# display_inlier_outlier(pcd, ind)"
   ]
  },
  {
   "cell_type": "code",
   "execution_count": 5,
   "metadata": {},
   "outputs": [],
   "source": [
    "# visualizer(downpcd)"
   ]
  },
  {
   "cell_type": "code",
   "execution_count": 6,
   "metadata": {},
   "outputs": [],
   "source": [
    "all_rgb_colors = np.asarray(downpcd.colors)"
   ]
  },
  {
   "cell_type": "code",
   "execution_count": 7,
   "metadata": {},
   "outputs": [
    {
     "data": {
      "text/plain": [
       "array([0.18431373, 0.20392157, 0.18039216])"
      ]
     },
     "execution_count": 7,
     "metadata": {},
     "output_type": "execute_result"
    }
   ],
   "source": [
    "downpcd.colors[0]"
   ]
  },
  {
   "cell_type": "code",
   "execution_count": 8,
   "metadata": {},
   "outputs": [],
   "source": [
    "all_hsv_colors = []\n",
    "\n",
    "for i in range(len(all_rgb_colors)):\n",
    "    temp_color = all_rgb_colors[i]\n",
    "    temp = colorsys.rgb_to_hsv(temp_color[0], temp_color[1], temp_color[2])\n",
    "    all_hsv_colors.append(temp)\n",
    "\n",
    "all_hsv_colors = np.asarray(all_hsv_colors)"
   ]
  },
  {
   "cell_type": "code",
   "execution_count": 9,
   "metadata": {},
   "outputs": [],
   "source": [
    "def hsv_filter(hsv_color):\n",
    "    low_h = 37/360\n",
    "    high_h = 180/360\n",
    "\n",
    "    low_s = 14/255\n",
    "    high_s = 255/255\n",
    "\n",
    "    low_v = 141/255\n",
    "    high_v = 255/255\n",
    "\n",
    "    # red\n",
    "    # Lower bound: (0, 100, 100)\n",
    "    # Upper bound: (10, 255, 255)\n",
    "\n",
    "    if low_h <= hsv_color[0] <= high_h and low_s <= hsv_color[1] <= high_s and low_v <= hsv_color[2] <= high_v:\n",
    "        return True\n",
    "    else:\n",
    "        return False\n",
    "    "
   ]
  },
  {
   "cell_type": "code",
   "execution_count": 10,
   "metadata": {},
   "outputs": [],
   "source": [
    "def hsv_filter_red(hsv_color):\n",
    "    # low_h = 0/180\n",
    "    # high_h = 180/180\n",
    "\n",
    "    # low_s = 100/255\n",
    "    # high_s = 255/255\n",
    "\n",
    "    # low_v = 100/255\n",
    "    # high_v = 255/255\n",
    "\n",
    "    # # red\n",
    "    # # Lower bound: (0, 100, 100)\n",
    "    # # Upper bound: (10, 255, 255)\n",
    "\n",
    "    # if low_h <= hsv_color[0] <= high_h and low_s <= hsv_color[1] <= high_s and low_v <= hsv_color[2] <= high_v:\n",
    "    #     return True\n",
    "    # else:\n",
    "    #     return False\n",
    "\n",
    "    # print(red)\n",
    "\n",
    "\n",
    "    if red >= (150/255) and red <= (250/255):\n",
    "        return True\n",
    "    else:\n",
    "        return False\n",
    "    "
   ]
  },
  {
   "cell_type": "code",
   "execution_count": 11,
   "metadata": {},
   "outputs": [],
   "source": [
    "new_points = []\n",
    "new_colors = []\n",
    "new_colors_RGB_u = []\n",
    "\n",
    "for index, new_color in enumerate(all_hsv_colors):\n",
    "    new_point = downpcd.points[index]\n",
    "    new_color_RGB = all_rgb_colors[index]\n",
    "    if hsv_filter(new_color):\n",
    "        new_colors_RGB_u.append(new_color_RGB)\n",
    "        new_points.append(new_point)\n",
    "        new_colors.append(new_color)\n",
    "        # print(new_color_RGB)\n",
    "    elif hsv_filter_red(all_rgb_colors[index]):\n",
    "        new_colors_RGB_u.append(new_color_RGB)\n",
    "        new_points.append(new_point)\n",
    "        new_colors.append(new_color)\n",
    "        # print(\"yes\")\n",
    "\n",
    "new_colors_RGB_u = np.asarray(new_colors_RGB_u)\n",
    "new_colors = np.asarray(new_colors)\n",
    "new_points = np.asarray(new_points)"
   ]
  },
  {
   "cell_type": "code",
   "execution_count": 12,
   "metadata": {},
   "outputs": [],
   "source": [
    "pcd_hsv = o3d.geometry.PointCloud()\n",
    "pcd_hsv.points = o3d.utility.Vector3dVector(new_points)\n",
    "pcd_hsv.colors = o3d.utility.Vector3dVector(new_colors_RGB_u)\n",
    "visualizer(pcd_hsv)"
   ]
  },
  {
   "cell_type": "code",
   "execution_count": 13,
   "metadata": {},
   "outputs": [],
   "source": [
    "cl, ind = pcd_hsv.remove_radius_outlier(nb_points=50, radius=0.03)\n",
    "\n",
    "visualizer(cl)"
   ]
  },
  {
   "cell_type": "code",
   "execution_count": 14,
   "metadata": {},
   "outputs": [
    {
     "name": "stdout",
     "output_type": "stream",
     "text": [
      "[Open3D WARNING] GLFW Error: WGL: Failed to make context current: The requested transformation operation is not supported. \n"
     ]
    }
   ],
   "source": [
    "cl, ind = cl.remove_statistical_outlier(nb_neighbors=70,\n",
    "                                                    std_ratio=1.0)\n",
    "cl.estimate_normals()\n",
    "visualizer(cl)\n",
    "# save the point cloud\n",
    "# o3d.io.write_point_cloud(\"saved_point_cloud.ply\", cl)"
   ]
  },
  {
   "cell_type": "code",
   "execution_count": 229,
   "metadata": {},
   "outputs": [
    {
     "name": "stdout",
     "output_type": "stream",
     "text": [
      "6.643856189774724\n"
     ]
    }
   ],
   "source": [
    "s = 1  #no. of samples used every time to create the shape\n",
    "p = 0.99 #99%\n",
    "e = 0.5 # 50%\n",
    "k = np.log(1-p)/(np.log(1 - np.power((1-e), s)))\n",
    "print(k)\n",
    "# k => number of iterations"
   ]
  },
  {
   "cell_type": "code",
   "execution_count": 108,
   "metadata": {},
   "outputs": [],
   "source": [
    "\n",
    "# points = np.load_points(cl) # Load your point cloud as a numpy array (N, 3)\n",
    "\n",
    "plane1 = pyrsc.Plane()\n",
    "# s = 3\n",
    "best_eq, best_inliers = plane1.fit(np.asarray(downpcd.points), thresh=0.1)\n",
    "\n",
    "# plane1 = pyrsc.Plane()\n",
    "# # s = 3\n",
    "# best_eq_plane, best_inliers_plane = plane1.fit(np.asarray(inlier_cloud_point.points), thresh=0.15, maxIteration=40)\n",
    "\n",
    "# inlier_cloud_plane = inlier_cloud_point.select_by_index(best_inliers_plane)\n",
    "# outlier_cloud_plane = inlier_cloud_point.select_by_index(best_inliers_plane, invert=True)\n",
    "\n",
    "# outlier_cloud_plane.paint_uniform_color([1, 0, 0])\n",
    "# inlier_cloud_plane.paint_uniform_color([0, 1, 0])\n",
    "# o3d.visualization.draw_geometries([inlier_cloud_plane, outlier_cloud_plane],\n",
    "#                                     zoom=0.5,\n",
    "#                                     front=[1, 0, 0],\n",
    "#                                     lookat=[0, 0, 0],\n",
    "#                                     up=[0, 0, 1])\n"
   ]
  },
  {
   "cell_type": "code",
   "execution_count": 128,
   "metadata": {},
   "outputs": [
    {
     "name": "stdout",
     "output_type": "stream",
     "text": [
      "309035\n"
     ]
    }
   ],
   "source": [
    "outlier_cloud_plane = downpcd.select_by_index(best_inliers, invert=True)\n",
    "print(len(outlier_cloud_plane.points))"
   ]
  },
  {
   "cell_type": "code",
   "execution_count": 143,
   "metadata": {},
   "outputs": [],
   "source": [
    "sphere = pyrsc.Sphere()\n",
    "# s = 4\n",
    "center, radius, best_inliers_sphere = sphere.fit(np.asarray(downpcd.points), thresh=0.1, maxIteration=75)  #better"
   ]
  },
  {
   "cell_type": "code",
   "execution_count": 208,
   "metadata": {},
   "outputs": [
    {
     "name": "stdout",
     "output_type": "stream",
     "text": [
      "[      0       1       2 ... 1181857 1181858 1181859]\n"
     ]
    }
   ],
   "source": [
    "print(best_inliers_sphere)"
   ]
  },
  {
   "cell_type": "code",
   "execution_count": 144,
   "metadata": {},
   "outputs": [
    {
     "name": "stdout",
     "output_type": "stream",
     "text": [
      "Showing outliers (red) and inliers (gray): \n"
     ]
    }
   ],
   "source": [
    "inlier_cloud = downpcd.select_by_index(best_inliers_sphere)\n",
    "outlier_cloud = downpcd.select_by_index(best_inliers_sphere, invert=True)\n",
    "\n",
    "print(\"Showing outliers (red) and inliers (gray): \")\n",
    "# outlier_cloud.paint_uniform_color([1, 0, 0])\n",
    "inlier_cloud.paint_uniform_color([0, 1, 0])\n",
    "o3d.visualization.draw_geometries([outlier_cloud],\n",
    "                                    zoom=0.5,\n",
    "                                front=[1, 0, 0],\n",
    "                                lookat=[0, 0, 0],\n",
    "                                up=[0, 0, 1])"
   ]
  },
  {
   "cell_type": "code",
   "execution_count": 227,
   "metadata": {},
   "outputs": [
    {
     "data": {
      "text/plain": [
       "PointCloud with 1 points."
      ]
     },
     "execution_count": 227,
     "metadata": {},
     "output_type": "execute_result"
    }
   ],
   "source": [
    "new_c = downpcd.select_by_index(best_inliers_sphere, invert=True)\n",
    "cenetr = new_c.get_center()\n",
    "single_point_cloud = o3d.geometry.PointCloud()\n",
    "point = np.array([0, 0, 0])  # Replace x, y, z with your desired coordinates\n",
    "\n",
    "single_point_cloud.points = o3d.utility.Vector3dVector(np.asarray([point]))\n",
    "single_point_cloud.paint_uniform_color([1, 0, 0])\n"
   ]
  },
  {
   "cell_type": "code",
   "execution_count": 228,
   "metadata": {},
   "outputs": [],
   "source": [
    "# downpcd.estimate_normals()\n",
    "# new = downpcd.detect_planar_patches()\n",
    "o3d.visualization.draw_geometries([new_c, single_point_cloud])\n",
    "# open3d.ml.torch.layers.RadiusSearch"
   ]
  },
  {
   "cell_type": "code",
   "execution_count": 224,
   "metadata": {},
   "outputs": [
    {
     "name": "stdout",
     "output_type": "stream",
     "text": [
      "before 51461\n",
      "after 51461\n"
     ]
    }
   ],
   "source": [
    "def squared_distances_3d(center, radius, points):\n",
    "\n",
    "    print(\"before\", len(points))\n",
    "\n",
    "    x, y, z = center\n",
    "    np_points = np.asarray(points)\n",
    "    distances_squared = np.sum((np_points - [x, y, z])**2, axis=1)\n",
    "\n",
    "    mask = distances_squared <= radius**2\n",
    "\n",
    "    filtered_points = np_points[mask]\n",
    "\n",
    "    filtered_indexes = np.argwhere(mask == True)\n",
    "\n",
    "    print(\"after\", len(filtered_points))\n",
    "\n",
    "    return (filtered_points, filtered_indexes)\n",
    "\n",
    "\n",
    "(new_points, new_indexes) = squared_distances_3d((0, 0, 0), 10, new_c.points)\n"
   ]
  },
  {
   "cell_type": "code",
   "execution_count": 225,
   "metadata": {},
   "outputs": [
    {
     "name": "stderr",
     "output_type": "stream",
     "text": [
      "C:\\Users\\vmuriki3\\AppData\\Local\\Temp\\ipykernel_11724\\863972166.py:3: DeprecationWarning: Conversion of an array with ndim > 0 to a scalar is deprecated, and will error in future. Ensure you extract a single element from your array before performing this operation. (Deprecated NumPy 1.25.)\n",
      "  new_c = downpcd.select_by_index(new_indexes)\n"
     ]
    }
   ],
   "source": [
    "# filtered_point_cloud = o3d.geometry.PointCloud()\n",
    "# filtered_point_cloud.points = o3d.utility.Vector3dVector(new_points)\n",
    "new_c = downpcd.select_by_index(new_indexes)\n",
    "visualizer(new_c)\n"
   ]
  },
  {
   "cell_type": "code",
   "execution_count": 199,
   "metadata": {},
   "outputs": [
    {
     "name": "stdout",
     "output_type": "stream",
     "text": [
      "[Open3D WARNING] Write OBJ can not include triangle normals.\n"
     ]
    },
    {
     "data": {
      "text/plain": [
       "True"
      ]
     },
     "execution_count": 199,
     "metadata": {},
     "output_type": "execute_result"
    }
   ],
   "source": [
    "radii = [0.005, 0.01, 0.02, 0.04]\n",
    "rec_mesh = o3d.geometry.TriangleMesh.create_from_point_cloud_ball_pivoting(\n",
    "    cl, o3d.utility.DoubleVector(radii))\n",
    "# o3d.io.write_triangle_mesh(\"saved_mesh.obj\", rec_mesh)"
   ]
  },
  {
   "cell_type": "code",
   "execution_count": null,
   "metadata": {},
   "outputs": [],
   "source": [
    "# Ransac\n",
    "# When data is affected by outliers, RANSAC removes outliers\n",
    "# - trial and error approach - inlier set and an outlier set\n",
    "# repeat until max steps and select the model which has the highest score\n",
    "# - sample set of points - inliers assume\n",
    "# - compute model params\n",
    "# - scoring step - how many of the remaining points support this model"
   ]
  },
  {
   "cell_type": "code",
   "execution_count": null,
   "metadata": {},
   "outputs": [],
   "source": [
    "box = mesh.get_oriented_bounding_box()\n",
    "# visualizer(mesh)\n",
    "vertices = np.asarray(box.get_box_points())\n",
    "\n",
    "# Define the edges of the oriented bounding box\n",
    "lines = [\n",
    "    [0, 1], [1, 2], [2, 3], [3, 0],\n",
    "    [4, 5], [5, 6], [6, 7], [7, 4],\n",
    "    [0, 4], [1, 5], [2, 6], [3, 7]\n",
    "]\n",
    "\n",
    "# Create a LineSet to represent the box\n",
    "line_set = o3d.geometry.LineSet(\n",
    "    points=o3d.utility.Vector3dVector(vertices),\n",
    "    lines=o3d.utility.Vector2iVector(lines)\n",
    ")\n",
    "\n",
    "# Set the color of the box (e.g., red)\n",
    "line_set.colors = o3d.utility.Vector3dVector(np.tile([1, 0, 0], (len(lines), 1)))\n",
    "o3d.visualization.draw_geometries([mesh, line_set],\n",
    "                                zoom=0.5,\n",
    "                                front=[1, 0, 0],\n",
    "                                lookat=[-0.05272632, -0.02440209, 0.48188474],\n",
    "                                up=[0, 0, 1])"
   ]
  }
 ],
 "metadata": {
  "kernelspec": {
   "display_name": "farmbot",
   "language": "python",
   "name": "python3"
  },
  "language_info": {
   "codemirror_mode": {
    "name": "ipython",
    "version": 3
   },
   "file_extension": ".py",
   "mimetype": "text/x-python",
   "name": "python",
   "nbconvert_exporter": "python",
   "pygments_lexer": "ipython3",
   "version": "3.11.9"
  }
 },
 "nbformat": 4,
 "nbformat_minor": 2
}
