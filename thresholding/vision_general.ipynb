{
 "cells": [
  {
   "cell_type": "code",
   "execution_count": 1,
   "metadata": {},
   "outputs": [
    {
     "name": "stdout",
     "output_type": "stream",
     "text": [
      "Jupyter environment detected. Enabling Open3D WebVisualizer.\n",
      "[Open3D INFO] WebRTC GUI backend enabled.\n",
      "[Open3D INFO] WebRTCWindowSystem: HTTP handshake server disabled.\n"
     ]
    }
   ],
   "source": [
    "import cv2\n",
    "import open3d as o3d\n",
    "import numpy as np\n",
    "import colorsys\n",
    "import pyransac3d as pyrsc\n",
    "import copy"
   ]
  },
  {
   "cell_type": "code",
   "execution_count": 2,
   "metadata": {},
   "outputs": [],
   "source": [
    "show_pcl = True"
   ]
  },
  {
   "cell_type": "code",
   "execution_count": 3,
   "metadata": {},
   "outputs": [],
   "source": [
    "def visualizer(cloud):\n",
    "\n",
    "    if show_pcl:\n",
    "\n",
    "        if type(cloud) == o3d.cpu.pybind.geometry.TriangleMesh:\n",
    "            vertices = np.asarray(cloud.vertices)\n",
    "            center_of_mass = np.mean(vertices, axis=0)\n",
    "        else:\n",
    "            # point cloud\n",
    "            center_of_mass = np.mean(np.asarray(cloud.points), axis=0)\n",
    "        \n",
    "        # print(\"com\", center_of_mass)\n",
    "        o3d.visualization.draw_geometries([cloud],\n",
    "                                    zoom=0.7,\n",
    "                                    front=[1, 0, 0],\n",
    "                                    lookat=center_of_mass,\n",
    "                                    up=[0, 0, 1])\n",
    "    \n",
    "    else:\n",
    "        pass\n"
   ]
  },
  {
   "cell_type": "code",
   "execution_count": 4,
   "metadata": {},
   "outputs": [],
   "source": [
    "pcd = o3d.io.read_point_cloud(\"../3dmodels\\Strawberry_Flowers_nice.ply\")\n",
    "\n",
    "# Cube 1 -> 8.13\n",
    "# Cube 2 -> 11.86621893003967\n",
    "# Cube 3 -> 7.35, 11.56398169309081\n",
    "\n",
    "visualizer(pcd)"
   ]
  },
  {
   "cell_type": "code",
   "execution_count": 7,
   "metadata": {},
   "outputs": [
    {
     "name": "stdout",
     "output_type": "stream",
     "text": [
      "[Open3D WARNING] GLFW Error: WGL: Failed to make context current: The requested transformation operation is not supported. \n",
      "[Open3D WARNING] GLFW Error: WGL: Failed to make context current: The requested transformation operation is not supported. \n"
     ]
    }
   ],
   "source": [
    "o3d.visualization.draw_geometries([pcd])\n"
   ]
  },
  {
   "cell_type": "code",
   "execution_count": 29,
   "metadata": {},
   "outputs": [],
   "source": [
    "# # Visualize cloud and edit\n",
    "# vis = o3d.visualization.VisualizerWithEditing()\n",
    "# vis.create_window()\n",
    "# vis.add_geometry(pcd)\n",
    "# vis.run()\n",
    "# vis.destroy_window()\n",
    "# print(vis.get_picked_points())"
   ]
  },
  {
   "cell_type": "code",
   "execution_count": 30,
   "metadata": {},
   "outputs": [],
   "source": [
    "bounding_box = o3d.geometry.AxisAlignedBoundingBox(min_bound=(-1, -1, -2),\n",
    "                                                    max_bound=(0.5, 0, 1))\n",
    "axis_bounded_cloud = pcd.crop(bounding_box)\n",
    "\n",
    "visualizer(axis_bounded_cloud)\n",
    "pcd = axis_bounded_cloud"
   ]
  },
  {
   "cell_type": "code",
   "execution_count": 31,
   "metadata": {},
   "outputs": [],
   "source": [
    "o3d.visualization.draw_geometries([pcd])"
   ]
  },
  {
   "cell_type": "code",
   "execution_count": 7,
   "metadata": {},
   "outputs": [
    {
     "name": "stdout",
     "output_type": "stream",
     "text": [
      "[Open3D WARNING] GLFW Error: WGL: Failed to make context current: The handle is invalid. \n"
     ]
    }
   ],
   "source": [
    "pcd.scale(5, center=pcd.get_center())\n",
    "visualizer(pcd)"
   ]
  },
  {
   "cell_type": "code",
   "execution_count": 12,
   "metadata": {},
   "outputs": [],
   "source": [
    "threshold = 0.75 # 0 -> 1\n",
    "\n",
    "x, y, z = np.asarray(pcd.points)[:, :3].T\n",
    "\n",
    "std = np.std((x, y, z), axis=1) * threshold\n",
    "\n",
    "hist_x, bins_x = np.histogram(x, bins=50)\n",
    "hist_y, bins_y = np.histogram(y, bins=50)\n",
    "\n",
    "max_freq_bin_x = bins_x[np.argmax(hist_x)]\n",
    "max_freq_bin_y = bins_y[np.argmax(hist_y)]\n",
    "\n",
    "min_bound = (max_freq_bin_x, max_freq_bin_y, -2) - std\n",
    "max_bound = (max_freq_bin_x, max_freq_bin_y, 2) + std\n",
    "\n",
    "bounding_box = o3d.geometry.AxisAlignedBoundingBox(min_bound=min_bound,\n",
    "                                                    max_bound=max_bound)\n",
    "axis_bounded_cloud = pcd.crop(bounding_box)\n",
    "\n",
    "visualizer(axis_bounded_cloud)"
   ]
  },
  {
   "cell_type": "code",
   "execution_count": 34,
   "metadata": {},
   "outputs": [],
   "source": [
    "o3d.visualization.draw_geometries([axis_bounded_cloud])"
   ]
  },
  {
   "cell_type": "code",
   "execution_count": 35,
   "metadata": {},
   "outputs": [],
   "source": [
    "def get_min_iter():\n",
    "    s = 6  #no. of samples used every time to create the shape\n",
    "    p = 0.99 #99%\n",
    "    e = 0.5 # 50%\n",
    "    k = np.log(1-p)/(np.log(1 - np.power((1-e), s)))\n",
    "    print(k)\n",
    "    return k\n",
    "    # k => number of iterations\n",
    "\n",
    "# get_min_iter()"
   ]
  },
  {
   "cell_type": "code",
   "execution_count": 36,
   "metadata": {},
   "outputs": [],
   "source": [
    "# import matplotlib.pyplot as plt\n",
    "# import numpy as np\n",
    "\n",
    "# # Generate random data for the histogram\n",
    "# fig, axes = plt.subplots(nrows=1, ncols=3, figsize=(18, 4))\n",
    "\n",
    "# axes[0].hist(x, bins=50, color='Yellow', edgecolor='black')\n",
    "# axes[0].set_title('Histogram 1')\n",
    " \n",
    "# axes[1].hist(y, bins=50, color='Pink', edgecolor='black')\n",
    "# axes[1].set_title('Histogram 2')\n",
    "\n",
    "# axes[2].hist(z, bins=50, color='Green', edgecolor='black')\n",
    "# axes[2].set_title('Histogram 3')\n",
    "\n",
    "# # Adding labels and title\n",
    "# for ax in axes:\n",
    "#     ax.set_xlabel('Values')\n",
    "#     ax.set_ylabel('Frequency')\n",
    "#     ax.xaxis.set_major_locator(plt.MaxNLocator(20))  # Adjust the number of ticks here\n",
    "#     plt.setp(ax.get_xticklabels(), rotation=45)\n",
    "\n",
    "# plt.tight_layout()\n",
    "# plt.show()\n"
   ]
  },
  {
   "cell_type": "code",
   "execution_count": 37,
   "metadata": {},
   "outputs": [],
   "source": [
    "# import matplotlib.pyplot as plt\n",
    "# import numpy as np\n",
    "\n",
    "# plt.hist2d(x, y, bins=30)\n",
    "\n",
    "# plt.xlabel('X values')\n",
    "# plt.ylabel('Y values')\n",
    "# plt.title('2D Histogram (Hexbin Plot)')\n",
    "# plt.colorbar()\n",
    "# plt.show()\n"
   ]
  },
  {
   "cell_type": "code",
   "execution_count": 38,
   "metadata": {},
   "outputs": [],
   "source": [
    "# point = pyrsc.Point()  #Using RANSAC\n",
    "# # s = 1\n",
    "\n",
    "# center, best_inliers_point = point.fit(np.asarray(axis_bounded_cloud.points), thresh=0.7, maxIteration=10)\n",
    "\n",
    "# inlier_cloud_point = axis_bounded_cloud.select_by_index(best_inliers_point)\n",
    "# outlier_cloud_point = axis_bounded_cloud.select_by_index(best_inliers_point, invert=True)\n",
    "\n",
    "# # outlier_cloud_point.paint_uniform_color([1, 0, 0])\n",
    "# # inlier_cloud_point.paint_uniform_color([0, 1, 0])\n",
    "\n",
    "# o3d.visualization.draw_geometries([inlier_cloud_point],\n",
    "#                                     zoom=0.5,\n",
    "#                                     front=[1, 0, 0],\n",
    "#                                     lookat=[0, 0, 0],\n",
    "#                                     up=[0, 0, 1])"
   ]
  },
  {
   "cell_type": "code",
   "execution_count": 39,
   "metadata": {},
   "outputs": [],
   "source": [
    "# sphere = pyrsc.Sphere()\n",
    "# # s = 4\n",
    "# center, radius, best_inliers_sphere = sphere.fit(np.asarray(axis_bounded_cloud.points), thresh=0.3, maxIteration=75)\n",
    "\n",
    "# inlier_cloud_sphere = axis_bounded_cloud.select_by_index(best_inliers_sphere)\n",
    "# outlier_cloud_sphere = axis_bounded_cloud.select_by_index(best_inliers_sphere, invert=True)\n",
    "\n",
    "# outlier_cloud_sphere.paint_uniform_color([1, 0, 0])\n",
    "# inlier_cloud_sphere.paint_uniform_color([0, 1, 0])\n",
    "\n",
    "# o3d.visualization.draw_geometries([outlier_cloud_sphere, inlier_cloud_sphere],\n",
    "#                                     zoom=0.5,\n",
    "#                                     front=[1, 0, 0],\n",
    "#                                     lookat=[0, 0, 0],\n",
    "#                                     up=[0, 0, 1])"
   ]
  },
  {
   "cell_type": "code",
   "execution_count": 40,
   "metadata": {},
   "outputs": [],
   "source": [
    "# # plane??\n",
    "\n",
    "# sphere = pyrsc.Plane()\n",
    "# # s = 3\n",
    "# equation, best_inliers_plane = sphere.fit(np.asarray(inlier_cloud_point.points), thresh=0.05, maxIteration=40)\n",
    "\n",
    "# inlier_cloud_plane = inlier_cloud_point.select_by_index(best_inliers_plane)\n",
    "# outlier_cloud_plane = inlier_cloud_point.select_by_index(best_inliers_plane, invert=True)\n",
    "\n",
    "# # outlier_cloud_plane.paint_uniform_color([1, 0, 0])\n",
    "# # inlier_cloud_plane.paint_uniform_color([0, 1, 0])\n",
    "\n",
    "# o3d.visualization.draw_geometries([outlier_cloud_plane],\n",
    "#                                     zoom=0.5,\n",
    "#                                     front=[1, 0, 0],\n",
    "#                                     lookat=[0, 0, 0],\n",
    "#                                     up=[0, 0, 1])"
   ]
  },
  {
   "cell_type": "code",
   "execution_count": 13,
   "metadata": {},
   "outputs": [],
   "source": [
    "pcd = axis_bounded_cloud"
   ]
  },
  {
   "cell_type": "code",
   "execution_count": 14,
   "metadata": {},
   "outputs": [],
   "source": [
    "def convert_rgb_2_hsv(all_rgb_colors):\n",
    "    all_hsv_colors = []\n",
    "\n",
    "    for i in range(len(all_rgb_colors)):\n",
    "        temp_color = all_rgb_colors[i]\n",
    "        temp = colorsys.rgb_to_hsv(temp_color[0], temp_color[1], temp_color[2])\n",
    "        all_hsv_colors.append(temp)\n",
    "\n",
    "    all_hsv_colors = np.asarray(all_hsv_colors)\n",
    "\n",
    "    return all_hsv_colors\n",
    "\n",
    "all_rgb_colors = np.asarray(axis_bounded_cloud.colors)\n",
    "all_hsv_colors = convert_rgb_2_hsv(all_rgb_colors)\n"
   ]
  },
  {
   "cell_type": "code",
   "execution_count": 15,
   "metadata": {},
   "outputs": [],
   "source": [
    "def hsv_filter(hsv_color): #fruit\n",
    "    # hsv_color is by 0 - 1 range\n",
    "    \n",
    "    # implement a fruit param wherein the hsv filter changes based on this\n",
    "    # maybe a way where in the initial of the code, we give the hsv values of the fruits and then it can run the code??\n",
    "\n",
    "    # # H -> 0 - 179\n",
    "    # RED\n",
    "    # low_h = 0/360\n",
    "    # high_h = 25/360\n",
    "    # # strawberry -> H S V\n",
    "    # # min [  0 146 190]\n",
    "    # # max [179 158 214]\n",
    "\n",
    "    # low_h_1 = 325/360\n",
    "    # high_h_1 = 360/360\n",
    "\n",
    "    # # 330 to 30 degree\n",
    "\n",
    "    # # S -> 0,255\n",
    "    # low_s = 0 #0.3\n",
    "    # high_s = 100/100\n",
    "\n",
    "    # # V -> 0,255\n",
    "    # low_v = 0\n",
    "    # high_v = 1\n",
    "\n",
    "    # yellow\n",
    "    # H -> 0 - 179\n",
    "    # low_h = 50/360\n",
    "    # high_h = 60/360\n",
    "\n",
    "    # low_s = 0.3\n",
    "    # high_s = 100/100\n",
    "\n",
    "    # low_v = 0.3\n",
    "    # high_v = 1\n",
    "\n",
    "    # pink flowers\n",
    "    low_h1 = 290/360\n",
    "    high_h1 = 360/360\n",
    "    low_h2 = 0/360\n",
    "    high_h2 = 20/360\n",
    "\n",
    "    low_s = 0/255\n",
    "    high_s = 255/255\n",
    "\n",
    "    low_v = 0/255\n",
    "    high_v = 255/255\n",
    "\n",
    "    if (low_h1 <= hsv_color[0] <= high_h1) and low_s <= hsv_color[1] <= high_s and low_v <= hsv_color[2] <= high_v:\n",
    "        return True\n",
    "    else:\n",
    "        return False\n",
    "    "
   ]
  },
  {
   "cell_type": "code",
   "execution_count": 16,
   "metadata": {},
   "outputs": [
    {
     "name": "stdout",
     "output_type": "stream",
     "text": [
      "[Open3D WARNING] GLFW Error: WGL: Failed to make context current: The requested transformation operation is not supported. \n",
      "[Open3D WARNING] GLFW Error: WGL: Failed to make context current: The requested transformation operation is not supported. \n"
     ]
    }
   ],
   "source": [
    "new_points = []\n",
    "new_colors = []\n",
    "new_colors_RGB_u = []\n",
    "for index, new_color in enumerate(all_hsv_colors):\n",
    "    new_point = axis_bounded_cloud.points[index]\n",
    "    new_color_RGB = all_rgb_colors[index]\n",
    "    if hsv_filter(new_color):\n",
    "        new_colors_RGB_u.append(new_color_RGB)\n",
    "        new_points.append(new_point)\n",
    "        new_colors.append(new_color)\n",
    "\n",
    "new_colors_RGB_u = np.asarray(new_colors_RGB_u)\n",
    "new_colors = np.asarray(new_colors)\n",
    "new_points = np.asarray(new_points)\n",
    "\n",
    "filtered_point_cloud = o3d.geometry.PointCloud()\n",
    "filtered_point_cloud.points = o3d.utility.Vector3dVector(new_points)\n",
    "filtered_point_cloud.colors = o3d.utility.Vector3dVector(new_colors_RGB_u)\n",
    "visualizer(filtered_point_cloud)"
   ]
  },
  {
   "cell_type": "code",
   "execution_count": 45,
   "metadata": {},
   "outputs": [],
   "source": [
    "cl, ind = filtered_point_cloud.remove_statistical_outlier(nb_neighbors=70,\n",
    "                                                    std_ratio=1.0)\n",
    "cl.estimate_normals()\n",
    "visualizer(cl)\n"
   ]
  },
  {
   "cell_type": "code",
   "execution_count": 46,
   "metadata": {},
   "outputs": [],
   "source": [
    "# sphere = pyrsc.Sphere()\n",
    "# # s = 3\n",
    "# # removes the soil\n",
    "# _, _,  best_inliers_plane = sphere.fit(np.asarray(cl.points), thresh=0.050, maxIteration=40)\n",
    "\n",
    "# inlier_cloud_plane = cl.select_by_index(best_inliers_plane)\n",
    "# outlier_cloud_plane = cl.select_by_index(best_inliers_plane, invert=True)\n",
    "\n",
    "# # outlier_cloud_plane.paint_uniform_color([1, 0, 0])\n",
    "# # inlier_cloud_plane.paint_uniform_color([0, 1, 0])\n",
    "\n",
    "# o3d.visualization.draw_geometries([outlier_cloud_plane],\n",
    "#                                     zoom=0.5,\n",
    "#                                     front=[1, 0, 0],\n",
    "#                                     lookat=[0, 0, 0],\n",
    "#                                     up=[0, 0, 1])"
   ]
  },
  {
   "cell_type": "code",
   "execution_count": 47,
   "metadata": {},
   "outputs": [],
   "source": [
    "# cl = outlier_cloud_plane"
   ]
  },
  {
   "cell_type": "code",
   "execution_count": 48,
   "metadata": {},
   "outputs": [],
   "source": [
    "# sphere = pyrsc.Plane()\n",
    "# # s = 3\n",
    "# equation, best_inliers_plane = sphere.fit(np.asarray(cl.points), thresh=0.04, maxIteration=40)\n",
    "\n",
    "# inlier_cloud_plane = cl.select_by_index(best_inliers_plane)\n",
    "# outlier_cloud_plane = cl.select_by_index(best_inliers_plane, invert=True)\n",
    "\n",
    "# # outlier_cloud_plane.paint_uniform_color([1, 0, 0])\n",
    "# # inlier_cloud_plane.paint_uniform_color([0, 1, 0])\n",
    "\n",
    "# o3d.visualization.draw_geometries([outlier_cloud_plane],\n",
    "#                                     zoom=0.5,\n",
    "#                                     front=[1, 0, 0],\n",
    "#                                     lookat=[0, 0, 0],\n",
    "#                                     up=[0, 0, 1])"
   ]
  },
  {
   "cell_type": "code",
   "execution_count": 49,
   "metadata": {},
   "outputs": [],
   "source": [
    "filtered_point_cloud, _ = cl.remove_statistical_outlier(nb_neighbors=5, std_ratio=0.5)\n",
    "\n",
    "visualizer(filtered_point_cloud)"
   ]
  },
  {
   "cell_type": "code",
   "execution_count": 50,
   "metadata": {},
   "outputs": [],
   "source": [
    "filtered_point_cloud_r, _ = filtered_point_cloud.remove_radius_outlier(nb_points=10, radius=0.01)\n",
    "\n",
    "visualizer(filtered_point_cloud_r)\n"
   ]
  },
  {
   "cell_type": "code",
   "execution_count": 51,
   "metadata": {},
   "outputs": [],
   "source": [
    "# def max_red(points):\n",
    "#     # Stricter filter to get just strawberry\n",
    "#     low_h = 0/360\n",
    "#     high_h = 25/360\n",
    "\n",
    "#     low_h_1 = 325/360\n",
    "#     high_h_1 = 360/360\n",
    "\n",
    "#     low_s = 0.5\n",
    "#     high_s = 100/100\n",
    "\n",
    "#     low_v = 0.5\n",
    "#     high_v = 1\n",
    "\n",
    "#     H_mask = ((low_h <= points[:, 0]) & (points[:, 0] <= high_h)) | ((low_h_1 <= points[:, 0]) & (points[:, 0] <= high_h_1))\n",
    "#     S_mask = (low_s <= points[:, 1]) & (points[:, 1] <= high_s)\n",
    "#     V_mask = (low_v <= points[:, 2]) & (points[:, 2] <= high_v)\n",
    "\n",
    "#     final_mask = H_mask & S_mask & V_mask\n",
    "\n",
    "#     return np.sum(final_mask)        "
   ]
  },
  {
   "cell_type": "code",
   "execution_count": 52,
   "metadata": {},
   "outputs": [],
   "source": [
    "# from sklearn.cluster import KMeans\n",
    "\n",
    "# features = np.array(filtered_point_cloud_r.points)\n",
    "\n",
    "# kmeans = KMeans(n_clusters=19, random_state=0).fit(features)\n",
    "# red_cluster_index = np.argmin(np.mean(kmeans.cluster_centers_, axis=1))\n",
    "# color = [\n",
    "#     [255, 0, 0],   # Red\n",
    "#     [0, 255, 0],   # Green\n",
    "#     [0, 0, 255],   # Blue\n",
    "#     [255, 255, 0], # Yellow\n",
    "#     [255, 0, 255], # Magenta\n",
    "#     [0, 255, 255], # Cyan\n",
    "#     [0, 128, 0],   # Green (dark)\n",
    "#     [0, 0, 128],   # Navy\n",
    "#     [128, 128, 0],  # Olive\n",
    "#     [128, 0, 128],  # Purple\n",
    "#     [0, 128, 128],  # Teal\n",
    "#     [128, 128, 128],# Gray\n",
    "#     [255, 165, 0],  # Orange\n",
    "#     [255, 192, 203],# Pink\n",
    "#     [0, 0, 0],      # Black\n",
    "#     [128, 0, 0],    # Maroon (dark)\n",
    "#     [0, 128, 0],    # Green (medium)\n",
    "#     [0, 0, 128],\n",
    "#     [128, 128, 128]\n",
    "# ]\n",
    "\n",
    "# outlier_cloud_sph = []\n",
    "# final_segments  = []\n",
    "\n",
    "# avg = []\n",
    "\n",
    "# for i in range(len(kmeans.cluster_centers_)):\n",
    "#     temp_p = np.where(kmeans.labels_ == i)\n",
    "#     temp_sphere = filtered_point_cloud_r.select_by_index(temp_p[0])\n",
    "#     temp_points = np.asarray(filtered_point_cloud_r.colors)[kmeans.labels_ == i]\n",
    "#     temp_avg = max_red(temp_points)\n",
    "#     # temp_avg = np.average(temp_points, axis=0)\n",
    "#     avg.append(temp_avg)\n",
    "#     deep_copy_seg = copy.deepcopy(temp_sphere)\n",
    "#     final_segments.append(deep_copy_seg)\n",
    "#     outlier_cloud_sph.append(temp_sphere)\n",
    "#     temp_sphere.paint_uniform_color(color[i])\n",
    "\n",
    "# # visualizer(filtered_point_cloud)\n",
    "\n",
    "# geometries_to_visualize = [outlier_cloud_sph[i] for i in range(len(kmeans.cluster_centers_))]  # Adjust the range as needed\n",
    "\n",
    "# o3d.visualization.draw_geometries(geometries_to_visualize,\n",
    "#                                     zoom=0.5,\n",
    "#                                     front=[1, 0, 0],\n",
    "#                                     lookat=[0, 0, 0],\n",
    "#                                     up=[0, 0, 1])\n",
    "\n"
   ]
  },
  {
   "cell_type": "code",
   "execution_count": 53,
   "metadata": {},
   "outputs": [],
   "source": [
    "# def fit_sphere(cld):\n",
    "\n",
    "#     sphere = pyrsc.Sphere()\n",
    "#     # s = 3\n",
    "#     # removes the soil\n",
    "#     _, _,  best_inliers_plane = sphere.fit(np.asarray(cld.points), thresh=0.090, maxIteration=40)\n",
    "\n",
    "#     inlier_cloud_plane = cld.select_by_index(best_inliers_plane)\n",
    "#     outlier_cloud_plane = cld.select_by_index(best_inliers_plane, invert=True)\n",
    "\n",
    "#     outlier_cloud_plane.paint_uniform_color([1, 0, 0])\n",
    "#     inlier_cloud_plane.paint_uniform_color([0, 1, 0])\n",
    "\n",
    "#     # o3d.visualization.draw_geometries([outlier_cloud_plane, inlier_cloud_plane],\n",
    "#     #                                     zoom=0.5,\n",
    "#     #                                     front=[1, 0, 0],\n",
    "#     #                                     lookat=np.mean(np.asarray(cld.points), axis=0),\n",
    "#     #                                     up=[0, 0, 1])\n",
    "\n",
    "#     return len(inlier_cloud_plane.points), len(outlier_cloud_plane.points)"
   ]
  },
  {
   "cell_type": "code",
   "execution_count": 54,
   "metadata": {},
   "outputs": [
    {
     "name": "stdout",
     "output_type": "stream",
     "text": [
      "[Open3D DEBUG] Precompute neighbors.\n",
      "[Open3D DEBUG] Done Precompute neighbors.\n",
      "[Open3D DEBUG] Compute Clusters\n",
      "[Open3D DEBUG] Done Compute Clusters: 2\n"
     ]
    },
    {
     "name": "stderr",
     "output_type": "stream",
     "text": [
      "c:\\Users\\vmuriki3\\AppData\\Local\\miniconda3\\envs\\farmbot\\Lib\\site-packages\\numpy\\core\\_methods.py:206: RuntimeWarning: Degrees of freedom <= 0 for slice\n",
      "  ret = _var(a, axis=axis, dtype=dtype, out=out, ddof=ddof,\n",
      "c:\\Users\\vmuriki3\\AppData\\Local\\miniconda3\\envs\\farmbot\\Lib\\site-packages\\numpy\\core\\_methods.py:163: RuntimeWarning: invalid value encountered in divide\n",
      "  arrmean = um.true_divide(arrmean, div, out=arrmean,\n",
      "c:\\Users\\vmuriki3\\AppData\\Local\\miniconda3\\envs\\farmbot\\Lib\\site-packages\\numpy\\core\\_methods.py:195: RuntimeWarning: invalid value encountered in divide\n",
      "  ret = um.true_divide(\n"
     ]
    }
   ],
   "source": [
    "color = [\n",
    "    [255, 0, 0],   # Red\n",
    "    [0, 255, 0],   # Green\n",
    "    [0, 0, 255],   # Blue\n",
    "    [255, 255, 0], # Yellow\n",
    "    [255, 0, 255], # Magenta\n",
    "    [0, 255, 255], # Cyan\n",
    "    [0, 128, 0],   # Green (dark)\n",
    "    [0, 0, 128],   # Navy\n",
    "    [128, 128, 0],  # Olive\n",
    "    [128, 0, 128],  # Purple\n",
    "    [0, 128, 128],  # Teal\n",
    "    [128, 128, 128],# Gray\n",
    "    [255, 165, 0],  # Orange\n",
    "    [255, 192, 203],# Pink\n",
    "    [0, 0, 0],      # Black\n",
    "    [128, 0, 0],    # Maroon (dark)\n",
    "    [0, 128, 0],    # Green (medium)\n",
    "    [0, 128, 128],\n",
    "    [128, 128, 128]\n",
    "]\n",
    "\n",
    "with o3d.utility.VerbosityContextManager(\n",
    "        o3d.utility.VerbosityLevel.Debug) as cm:\n",
    "    labels = np.array(\n",
    "        filtered_point_cloud_r.cluster_dbscan(eps=0.02, min_points=40, print_progress=True))\n",
    "\n",
    "max_label = labels.max()\n",
    "outlier_cloud_sph_2 =[]\n",
    "l = 0\n",
    "seg_avg = []\n",
    "for i in range(-1, max_label+1):\n",
    "    indexes = np.argwhere(labels == i).flatten()\n",
    "    new_pc = o3d.geometry.PointCloud()\n",
    "    new_pc.points = o3d.utility.Vector3dVector(np.asarray(filtered_point_cloud_r.points)[indexes])\n",
    "    new_pc.colors = o3d.utility.Vector3dVector(np.asarray(filtered_point_cloud_r.colors)[indexes])\n",
    "    if l >= 19:\n",
    "        l = 0\n",
    "    # new_pc.paint_uniform_color(color[l])\n",
    "    l+= 1\n",
    "    # new_pc.colors = o3d.utility.Vector3dVector(np.asarray(filtered_point_cloud_r.colors)[indexes])\n",
    "    temp_avg = np.std(np.asarray(filtered_point_cloud_r.colors)[indexes], axis=0)\n",
    "    seg_avg.append(temp_avg)\n",
    "    outlier_cloud_sph_2.append(new_pc)\n",
    "    # visualizer(new_pc)\n",
    "    # print(l)\n",
    "\n",
    "if show_pcl:\n",
    "    o3d.visualization.draw_geometries(outlier_cloud_sph_2,\n",
    "                                        zoom=0.5,\n",
    "                                        front=[1, 0, 0],\n",
    "                                        lookat=[0, 0, 0],\n",
    "                                        up=[0, 0, 1])\n"
   ]
  },
  {
   "cell_type": "code",
   "execution_count": 55,
   "metadata": {},
   "outputs": [
    {
     "name": "stdout",
     "output_type": "stream",
     "text": [
      "1\n"
     ]
    }
   ],
   "source": [
    "idx = 0\n",
    "max_points = 0\n",
    "for i in range(len(outlier_cloud_sph_2)):\n",
    "    tmp_cld = outlier_cloud_sph_2[i]\n",
    "    if len(tmp_cld.points) > max_points:\n",
    "        max_points = len(tmp_cld.points)\n",
    "        idx = i\n",
    "\n",
    "print(idx)"
   ]
  },
  {
   "cell_type": "code",
   "execution_count": 56,
   "metadata": {},
   "outputs": [],
   "source": [
    "visualizer(outlier_cloud_sph_2[idx])"
   ]
  },
  {
   "cell_type": "code",
   "execution_count": 57,
   "metadata": {},
   "outputs": [],
   "source": [
    "cld = outlier_cloud_sph_2[idx]"
   ]
  },
  {
   "cell_type": "markdown",
   "metadata": {},
   "source": [
    "This is the point cloud with only the cube"
   ]
  },
  {
   "cell_type": "code",
   "execution_count": 58,
   "metadata": {},
   "outputs": [],
   "source": [
    "cluster = outlier_cloud_sph_2[idx]\n",
    "mesh_frame = o3d.geometry.TriangleMesh.create_coordinate_frame(size=0.1, origin=cluster.get_center())\n",
    "# Create a visualizer object\n",
    "vis = o3d.visualization.Visualizer()\n",
    "\n",
    "# Add point cloud to visualizer/\n",
    "vis.create_window()\n",
    "vis.add_geometry(cluster)\n",
    "\n",
    "# Create a coordinate frame (axes)\n",
    "vis.add_geometry(mesh_frame)\n",
    "\n",
    "# Run the visualizer\n",
    "vis.run()\n",
    "vis.destroy_window()# print(np.min(outlier_cloud_sph_2[idx].points, axis=0))\n",
    "# print(np.max(outlier_cloud_sph_2[idx].points, axis=0))\n"
   ]
  },
  {
   "cell_type": "code",
   "execution_count": 59,
   "metadata": {},
   "outputs": [],
   "source": [
    "# cluster = cld\n",
    "# # cluster.paint_uniform_color((0, 0, 0))\n",
    "\n",
    "# max_val = np.max(np.asarray(cluster.points), axis=0)\n",
    "# min_val = np.min(cluster.points, axis=0)\n",
    "\n",
    "# min_pt = o3d.geometry.PointCloud()\n",
    "# min_pt.points = o3d.utility.Vector3dVector([min_val])\n",
    "# min_pt.paint_uniform_color([0, 1, 0])\n",
    "\n",
    "# max_pt = o3d.geometry.PointCloud()\n",
    "# max_pt.points = o3d.utility.Vector3dVector([max_val])\n",
    "# max_pt.paint_uniform_color([0, 1, 0])\n",
    "\n",
    "# o3d.visualization.draw_geometries([max_pt, min_pt, cluster ])\n",
    "\n",
    "# print(min_val)\n",
    "# print(max_val)\n",
    "\n",
    "# points_np = np.asarray(cluster.points)\n",
    "# min_x_idx = np.argmin(points_np[:, 0])\n",
    "# max_x_idx = np.argmax(points_np[:, 0])\n",
    "# min_y_idx = np.argmin(points_np[:, 1])\n",
    "# max_y_idx = np.argmax(points_np[:, 1])\n",
    "# min_z_idx = np.argmin(points_np[:, 2])\n",
    "# max_z_idx = np.argmax(points_np[:, 2])"
   ]
  },
  {
   "cell_type": "code",
   "execution_count": 60,
   "metadata": {},
   "outputs": [],
   "source": [
    "# extremes = o3d.geometry.PointCloud()\n",
    "# # , points_np[min_y_idx], points_np[max_y_idx], points_np[min_z_idx], points_np[max_z_idx]\n",
    "# extremes.points = o3d.utility.Vector3dVector([points_np[min_x_idx], points_np[max_x_idx]])\n",
    "# extremes.paint_uniform_color([1, 0, 0])\n",
    "\n",
    "# o3d.visualization.draw_geometries([extremes, cld, mesh_frame, max_pt, min_pt])"
   ]
  },
  {
   "cell_type": "code",
   "execution_count": 61,
   "metadata": {},
   "outputs": [],
   "source": [
    "# # Rotating the point cloud\n",
    "# test_cld = cld\n",
    "# points = np.asarray(test_cld.points)\n",
    "\n",
    "# # points_centered = points - np.mean(points, axis=0)\n",
    "# # cov_matrix = np.cov(points_centered, rowvar=False)\n",
    "\n",
    "# # covariance\n",
    "# mean, cov_matrix = test_cld.compute_mean_and_covariance()\n",
    "# # Perform Principal Component Analysis (PCA)\n",
    "# eigenvalues, eigenvectors = np.linalg.eig(cov_matrix)\n",
    "\n",
    "# # Sort eigenvectors by eigenvalues (descending order)\n",
    "# sorted_indices = np.argsort(eigenvalues)[::-1]\n",
    "# eigenvectors = eigenvectors[:, sorted_indices]\n",
    "\n",
    "# # Local coordinate axes (eigenvectors)\n",
    "# local_x_axis = eigenvectors[:, 0]\n",
    "# local_y_axis = eigenvectors[:, 1]\n",
    "# local_z_axis = eigenvectors[:, 2]\n",
    "\n",
    "# print(\"Local X-axis:\", np.arccos(local_x_axis))\n",
    "# print(\"Local Y-axis:\", np.arccos(local_y_axis))\n",
    "# print(\"Local Z-axis:\", np.arccos(local_z_axis))\n",
    "\n",
    "# local_x_axis /= np.linalg.norm(local_x_axis)\n",
    "# local_y_axis /= np.linalg.norm(local_y_axis)\n",
    "# local_z_axis /= np.linalg.norm(local_z_axis)\n",
    "\n",
    "# # Construct rotation matrix\n",
    "# rotation_matrix = np.column_stack((local_x_axis, local_y_axis, local_z_axis))\n",
    "# print(rotation_matrix)\n",
    "\n",
    "# centroid = np.mean(points, axis=0)\n",
    "\n",
    "# aligned_points = np.dot(points - centroid, rotation_matrix.T) + centroid\n",
    "\n",
    "# # Create Open3D point cloud with aligned points\n",
    "# aligned_cube_pcd = o3d.geometry.PointCloud()\n",
    "# aligned_cube_pcd.points = o3d.utility.Vector3dVector(aligned_points)\n",
    "\n",
    "# R = aligned_cube_pcd.get_rotation_matrix_from_xyz((np.pi, 0, np.pi/4))\n",
    "# aligned_cube_pcd.rotate(R, center=aligned_cube_pcd.get_center())\n",
    "\n",
    "# # Visualize original and aligned cubes\n",
    "# o3d.visualization.draw_geometries([aligned_cube_pcd,mesh_frame])\n"
   ]
  },
  {
   "cell_type": "code",
   "execution_count": 62,
   "metadata": {},
   "outputs": [],
   "source": [
    "# max_val = np.max(aligned_cube_pcd.points, axis=0)\n",
    "# min_val = np.min(aligned_cube_pcd.points, axis=0)\n",
    "\n",
    "# extremes = o3d.geometry.PointCloud()\n",
    "# # , points_np[min_y_idx], points_np[max_y_idx], points_np[min_z_idx], points_np[max_z_idx]\n",
    "# extremes.points = o3d.utility.Vector3dVector([max_val, min_val])\n",
    "# extremes.paint_uniform_color([1, 0, 0])\n",
    "\n",
    "# o3d.visualization.draw_geometries([aligned_cube_pcd,mesh_frame, extremes])"
   ]
  },
  {
   "cell_type": "code",
   "execution_count": 63,
   "metadata": {},
   "outputs": [],
   "source": [
    "def scale_cube(x_min, x_max):\n",
    "    actual_side_length = 0.02\n",
    "    dist = x_max - x_min\n",
    "    scale = actual_side_length/dist\n",
    "\n",
    "    return scale\n",
    "\n",
    "# scale_cube_temp = scale_cube(points_np[min_x_idx][0], points_np[max_x_idx][0])\n",
    "# print(scale_cube_temp)"
   ]
  },
  {
   "cell_type": "code",
   "execution_count": 64,
   "metadata": {},
   "outputs": [],
   "source": [
    "# def convert_rgb_2_hsv(all_rgb_colors):\n",
    "#     all_hsv_colors_segement = []\n",
    "\n",
    "#     for i in range(len(all_rgb_colors)):\n",
    "#         temp_color = all_rgb_colors[i]\n",
    "#         temp = colorsys.rgb_to_hls(temp_color[0], temp_color[1], temp_color[2]) #bt 0 to 1\n",
    "#         all_hsv_colors_segement.append([temp[0] * 360, temp[1]*100, temp[2]*100])\n",
    "\n",
    "#     all_hsv_colors_segement = np.asarray(all_hsv_colors_segement)\n",
    "\n",
    "#     return all_hsv_colors_segement\n",
    "\n",
    "# all_hsv_colors_segement = convert_rgb_2_hsv(seg_avg)\n",
    "\n",
    "# print(all_hsv_colors_segement)\n",
    "\n",
    "# index = np.argmin(all_hsv_colors_segement, axis=0)[0]\n",
    "\n",
    "# print(index)\n",
    "# # print(outlier_cloud_sph[index])\n",
    "# # print(avg)\n",
    "# # print(np.argmax(avg))\n",
    "# visualizer(outlier_cloud_sph_2[index])\n"
   ]
  },
  {
   "cell_type": "code",
   "execution_count": 65,
   "metadata": {},
   "outputs": [],
   "source": [
    "visualizer(cld)"
   ]
  },
  {
   "cell_type": "code",
   "execution_count": 66,
   "metadata": {},
   "outputs": [],
   "source": [
    "# o3d.io.write_point_cloud(\"filtered_pcd_final.xyz\", filtered_point_cloud)\n"
   ]
  },
  {
   "cell_type": "code",
   "execution_count": 67,
   "metadata": {},
   "outputs": [],
   "source": [
    "voxel_grid = o3d.geometry.VoxelGrid.create_from_point_cloud(cld,\n",
    "                                                            voxel_size=0.001)"
   ]
  },
  {
   "cell_type": "code",
   "execution_count": 68,
   "metadata": {},
   "outputs": [],
   "source": [
    "o3d.visualization.draw_geometries([voxel_grid])"
   ]
  },
  {
   "cell_type": "code",
   "execution_count": 95,
   "metadata": {},
   "outputs": [],
   "source": [
    "cld = o3d.io.read_point_cloud(\"3dmodels\\cube_only_extracted.ply\")\n",
    "\n",
    "# Cube 1 -> 8.13\n",
    "# Cube 2 -> 11.86621893003967\n",
    "# Cube 3 -> 7.35, 11.56398169309081\n"
   ]
  },
  {
   "cell_type": "code",
   "execution_count": 96,
   "metadata": {},
   "outputs": [
    {
     "name": "stdout",
     "output_type": "stream",
     "text": [
      "[Open3D INFO] No point has been picked.\n",
      "[Open3D INFO] Picked point #181 (0.024, 0.045, 0.23) to add in queue.\n",
      "[Open3D INFO] Picked point #236 (0.018, 0.029, 0.25) to add in queue.\n",
      "[Open3D WARNING] GLFW Error: WGL: Failed to make context current: The requested transformation operation is not supported. \n",
      "[Open3D WARNING] GLFW Error: WGL: Failed to make context current: The handle is invalid. \n",
      "[Open3D INFO] Picked point #1487 (0.029, 0.011, 0.24) to add in queue.\n",
      "[Open3D INFO] Picked point #1314 (0.012, 0.0039, 0.23) to add in queue.\n",
      "[Open3D WARNING] GLFW Error: WGL: Failed to make context current: The requested transformation operation is not supported. \n",
      "[181, 236, 1487, 1314]\n"
     ]
    }
   ],
   "source": [
    "# Visualize cloud and edit\n",
    "vis = o3d.visualization.VisualizerWithEditing()\n",
    "vis.create_window()\n",
    "vis.add_geometry(cld)\n",
    "vis.run()\n",
    "vis.destroy_window()\n",
    "print(vis.get_picked_points())"
   ]
  },
  {
   "cell_type": "code",
   "execution_count": 97,
   "metadata": {},
   "outputs": [
    {
     "name": "stdout",
     "output_type": "stream",
     "text": [
      "0.02014931910571491\n"
     ]
    },
    {
     "ename": "IndexError",
     "evalue": "index 1487 is out of bounds for axis 0 with size 704",
     "output_type": "error",
     "traceback": [
      "\u001b[1;31m---------------------------------------------------------------------------\u001b[0m",
      "\u001b[1;31mIndexError\u001b[0m                                Traceback (most recent call last)",
      "Cell \u001b[1;32mIn[97], line 8\u001b[0m\n\u001b[0;32m      6\u001b[0m \u001b[38;5;28;01mfor\u001b[39;00m i \u001b[38;5;129;01min\u001b[39;00m \u001b[38;5;28mrange\u001b[39m(\u001b[38;5;28mlen\u001b[39m(vis\u001b[38;5;241m.\u001b[39mget_picked_points())\u001b[38;5;241m-\u001b[39m\u001b[38;5;241m1\u001b[39m):\n\u001b[0;32m      7\u001b[0m     pt \u001b[38;5;241m=\u001b[39m np\u001b[38;5;241m.\u001b[39masarray(filtered_point_cloud\u001b[38;5;241m.\u001b[39mpoints)[vis\u001b[38;5;241m.\u001b[39mget_picked_points()[i]]\n\u001b[1;32m----> 8\u001b[0m     next_pt \u001b[38;5;241m=\u001b[39m \u001b[43mnp\u001b[49m\u001b[38;5;241;43m.\u001b[39;49m\u001b[43masarray\u001b[49m\u001b[43m(\u001b[49m\u001b[43mfiltered_point_cloud\u001b[49m\u001b[38;5;241;43m.\u001b[39;49m\u001b[43mpoints\u001b[49m\u001b[43m)\u001b[49m\u001b[43m[\u001b[49m\u001b[43mvis\u001b[49m\u001b[38;5;241;43m.\u001b[39;49m\u001b[43mget_picked_points\u001b[49m\u001b[43m(\u001b[49m\u001b[43m)\u001b[49m\u001b[43m[\u001b[49m\u001b[43mi\u001b[49m\u001b[38;5;241;43m+\u001b[39;49m\u001b[38;5;241;43m1\u001b[39;49m\u001b[43m]\u001b[49m\u001b[43m]\u001b[49m\n\u001b[0;32m      9\u001b[0m     dist \u001b[38;5;241m=\u001b[39m euclidean_distance(pt, next_pt)\n\u001b[0;32m     10\u001b[0m     avg_dist \u001b[38;5;241m+\u001b[39m\u001b[38;5;241m=\u001b[39m dist\n",
      "\u001b[1;31mIndexError\u001b[0m: index 1487 is out of bounds for axis 0 with size 704"
     ]
    }
   ],
   "source": [
    "def euclidean_distance(color1, color2):\n",
    "    return np.linalg.norm(color1 - color2)\n",
    "\n",
    "# HSV representation of red\n",
    "avg_dist = 0\n",
    "for i in range(len(vis.get_picked_points())-1):\n",
    "    pt = np.asarray(filtered_point_cloud.points)[vis.get_picked_points()[i]]\n",
    "    next_pt = np.asarray(filtered_point_cloud.points)[vis.get_picked_points()[i+1]]\n",
    "    dist = euclidean_distance(pt, next_pt)\n",
    "    avg_dist += dist\n",
    "    print(dist)\n",
    "\n",
    "print(\"Avg:\", avg_dist/(len(vis.get_picked_points())-1))\n"
   ]
  },
  {
   "cell_type": "code",
   "execution_count": 71,
   "metadata": {},
   "outputs": [],
   "source": [
    "# import numpy as np\n",
    "\n",
    "# # Example data (replace with your actual data)\n",
    "# points = np.asarray(filtered_point_cloud.points)  # Example: XYZ coordinates\n",
    "# colors = np.asarray(filtered_point_cloud.colors)  # Example: RGB colors (0-255)\n",
    "\n",
    "# # Normalize colors to 0-1 range\n",
    "# # colors_normalized = colors / 255.0\n",
    "\n",
    "# # Concatenate points and colors\n",
    "# point_cloud_data = np.concatenate((points, colors), axis=1)\n",
    "\n",
    "# # Save to .txt file\n",
    "# np.savetxt(\"example_point_cloud.txt\", point_cloud_data, fmt='%.6f %.6f %.6f %.3f %.3f %.3f')\n"
   ]
  },
  {
   "cell_type": "code",
   "execution_count": 72,
   "metadata": {},
   "outputs": [],
   "source": [
    "# Get the center of the strawberry\n",
    "center_strawberry = cld.get_center()\n",
    "\n",
    "center_pc = o3d.geometry.PointCloud()\n",
    "center_pc.points = o3d.utility.Vector3dVector(np.asarray([center_strawberry]))\n",
    "center_pc.paint_uniform_color([0, 0, 1])\n",
    "\n",
    "o3d.visualization.draw_geometries([cld, center_pc])"
   ]
  },
  {
   "cell_type": "code",
   "execution_count": 73,
   "metadata": {},
   "outputs": [],
   "source": [
    "# Last Outlier removal if any remain\n",
    "filtered_point_cloud, _ = cld.remove_statistical_outlier(nb_neighbors=10, std_ratio=0.2)\n",
    "visualizer(filtered_point_cloud)"
   ]
  },
  {
   "cell_type": "code",
   "execution_count": 74,
   "metadata": {},
   "outputs": [],
   "source": [
    "filtered_point_cloud_r, _ = filtered_point_cloud.remove_radius_outlier(nb_points=15, radius=0.1)\n",
    "\n",
    "visualizer(filtered_point_cloud_r)\n"
   ]
  },
  {
   "cell_type": "code",
   "execution_count": 75,
   "metadata": {},
   "outputs": [],
   "source": [
    "o3d.visualization.draw_geometries([filtered_point_cloud_r])"
   ]
  },
  {
   "cell_type": "code",
   "execution_count": 76,
   "metadata": {},
   "outputs": [],
   "source": [
    "# from vedo import Points, Volume\n",
    "# cloud = Points(np.asarray(cld.points))"
   ]
  },
  {
   "cell_type": "code",
   "execution_count": 77,
   "metadata": {},
   "outputs": [],
   "source": [
    "# vol1 = Volume()"
   ]
  },
  {
   "cell_type": "code",
   "execution_count": 78,
   "metadata": {},
   "outputs": [],
   "source": [
    "# visualizer(filtered_point_cloud_r)"
   ]
  },
  {
   "cell_type": "code",
   "execution_count": 79,
   "metadata": {},
   "outputs": [],
   "source": [
    "# cloud.generate_mesh()"
   ]
  },
  {
   "cell_type": "code",
   "execution_count": 80,
   "metadata": {},
   "outputs": [],
   "source": [
    "# # Perform 2D Delaunay triangulation to get a surface from the point cloud\n",
    "# surface = cloud.smooth_mls_2d(f=0.8)\n",
    "# # Points().generate_delaunay2d()\n",
    "# # Compute the volume of the resulting surface mesh\n",
    "# volume = surface.volume()"
   ]
  },
  {
   "cell_type": "code",
   "execution_count": 81,
   "metadata": {},
   "outputs": [
    {
     "name": "stdout",
     "output_type": "stream",
     "text": [
      "[Open3D DEBUG] Input Points / Samples: 704 / 704\n",
      "[Open3D DEBUG] #   Got kernel density: 0.052 (s), 231.832 (MB) / 231.832 (MB) / 530 (MB)\n",
      "[Open3D DEBUG] #     Got normal field: 0.017 (s), 240.625 (MB) / 240.625 (MB) / 530 (MB)\n",
      "[Open3D DEBUG] Point weight / Estimated Area: 2.447380e-03 / 1.722955e+00\n",
      "[Open3D DEBUG] #       Finalized tree: 0.0679998 (s), 246.586 (MB) / 246.586 (MB) / 530 (MB)\n",
      "[Open3D DEBUG] #  Set FEM constraints: 0.513 (s), 237.273 (MB) / 246.586 (MB) / 530 (MB)\n",
      "[Open3D DEBUG] #Set point constraints: 0.00700021 (s), 236.848 (MB) / 246.586 (MB) / 530 (MB)\n",
      "[Open3D DEBUG] Leaf Nodes / Active Nodes / Ghost Nodes: 347488 / 67048 / 330081\n",
      "[Open3D DEBUG] Memory Usage: 236.852 MB\n",
      "[Open3D DEBUG] # Linear system solved: 0.994 (s), 239.965 (MB) / 246.586 (MB) / 530 (MB)\n",
      "[Open3D DEBUG] Got average: 0.00699997 (s), 238.516 (MB) / 246.586 (MB) / 530 (MB)\n",
      "[Open3D DEBUG] Iso-Value: 5.007196e-01 = 3.525066e+02 / 7.040000e+02\n",
      "[Open3D DEBUG] #          Total Solve:       8.9 (s),     246.6 (MB)\n",
      "TriangleMesh with 5795 points and 11310 triangles.\n"
     ]
    }
   ],
   "source": [
    "filtered_point_cloud_r.estimate_normals()\n",
    "with o3d.utility.VerbosityContextManager(\n",
    "        o3d.utility.VerbosityLevel.Debug) as cm:\n",
    "    mesh, densities = o3d.geometry.TriangleMesh.create_from_point_cloud_poisson(\n",
    "        filtered_point_cloud_r, depth=15)\n",
    "print(mesh)\n",
    "o3d.visualization.draw_geometries([mesh])"
   ]
  },
  {
   "cell_type": "code",
   "execution_count": 82,
   "metadata": {},
   "outputs": [],
   "source": [
    "unneeded = densities < np.quantile(densities, 0.5)\n",
    "mesh.remove_vertices_by_mask(unneeded)\n",
    "o3d.visualization.draw_geometries([mesh])"
   ]
  },
  {
   "cell_type": "code",
   "execution_count": 83,
   "metadata": {},
   "outputs": [],
   "source": [
    "# def color_bounding_box(box):\n",
    "#     # visualizer(mesh)\n",
    "#     vertices = np.asarray(box.get_box_points())\n",
    "\n",
    "#     # Define the edges of the oriented bounding box\n",
    "#     lines = [\n",
    "#         [0, 1], [1, 2], [2, 3], [3, 0],\n",
    "#         [4, 5], [5, 6], [6, 7], [7, 4],\n",
    "#         [0, 4], [1, 5], [2, 6], [3, 7]\n",
    "#     ]\n",
    "\n",
    "#     # Create a LineSet to represent the box\n",
    "#     line_set = o3d.geometry.LineSet(\n",
    "#         points=o3d.utility.Vector3dVector(vertices),\n",
    "#         lines=o3d.utility.Vector2iVector(lines)\n",
    "#     )\n",
    "\n",
    "#     # Set the color of the box (e.g., red)\n",
    "#     line_set.colors = o3d.utility.Vector3dVector(np.tile([1, 0, 0], (len(lines), 1)))\n",
    "#     # o3d.visualization.draw_geometries([mesh, line_set],\n",
    "#     #                                 zoom=0.5,\n",
    "#     #                                 front=[1, 0, 0],\n",
    "#     #                                 lookat=[-0.05272632, -0.02440209, 0.48188474],\n",
    "#     #                                 up=[0, 0, 1])\n",
    "\n",
    "#     return line_set"
   ]
  },
  {
   "cell_type": "code",
   "execution_count": 84,
   "metadata": {},
   "outputs": [],
   "source": [
    "# # AABB box\n",
    "# box_triangle = mesh.get_axis_aligned_bounding_box()\n",
    "# line_set_triangle = color_bounding_box(box_triangle)\n",
    "# o3d.visualization.draw_geometries([mesh, line_set_triangle, center_pc])"
   ]
  },
  {
   "cell_type": "code",
   "execution_count": 85,
   "metadata": {},
   "outputs": [],
   "source": [
    "# point cloud making convex hull\n",
    "hull, _ = mesh.compute_convex_hull()  #cld -> is the point cloud\n",
    "hull_ls = o3d.geometry.LineSet.create_from_triangle_mesh(hull)\n",
    "hull_ls.paint_uniform_color((0, 0 , 1))\n",
    "# visualizer(hull_ls)\n",
    "o3d.visualization.draw_geometries([hull])"
   ]
  },
  {
   "cell_type": "code",
   "execution_count": 86,
   "metadata": {},
   "outputs": [],
   "source": [
    "# hull.scale(0.2517, center=hull.get_center())"
   ]
  },
  {
   "cell_type": "code",
   "execution_count": 87,
   "metadata": {},
   "outputs": [],
   "source": [
    "hull.remove_degenerate_triangles()\n",
    "hull.compute_vertex_normals()\n",
    "hull.orient_triangles()\n",
    "# o3d.visualization.draw_geometries([cld, hull])\n",
    "volume = hull.get_volume() * (10 ** 6) #in cm^3"
   ]
  },
  {
   "cell_type": "code",
   "execution_count": 88,
   "metadata": {},
   "outputs": [],
   "source": [
    "o3d.visualization.draw_geometries([cld, hull])"
   ]
  },
  {
   "cell_type": "code",
   "execution_count": 94,
   "metadata": {},
   "outputs": [
    {
     "data": {
      "text/plain": [
       "True"
      ]
     },
     "execution_count": 94,
     "metadata": {},
     "output_type": "execute_result"
    }
   ],
   "source": [
    "o3d.io.write_point_cloud(\"sphere_only_extracted.ply\", cld)\n"
   ]
  },
  {
   "cell_type": "code",
   "execution_count": 90,
   "metadata": {},
   "outputs": [
    {
     "data": {
      "text/plain": [
       "5.664602155131283"
      ]
     },
     "execution_count": 90,
     "metadata": {},
     "output_type": "execute_result"
    }
   ],
   "source": [
    "volume"
   ]
  },
  {
   "cell_type": "code",
   "execution_count": 91,
   "metadata": {},
   "outputs": [],
   "source": [
    "voxel_grid_mesh = o3d.geometry.VoxelGrid.create_from_triangle_mesh(hull,\n",
    "                                                            voxel_size=0.001)"
   ]
  },
  {
   "cell_type": "code",
   "execution_count": 92,
   "metadata": {},
   "outputs": [],
   "source": [
    "o3d.visualization.draw_geometries([voxel_grid_mesh])"
   ]
  },
  {
   "cell_type": "code",
   "execution_count": 93,
   "metadata": {},
   "outputs": [
    {
     "data": {
      "text/plain": [
       "24003"
      ]
     },
     "execution_count": 93,
     "metadata": {},
     "output_type": "execute_result"
    }
   ],
   "source": [
    "len(voxel_grid_mesh.get_voxels()) * 10^9\n",
    "# 39793 voxel size so mm?"
   ]
  },
  {
   "cell_type": "code",
   "execution_count": null,
   "metadata": {},
   "outputs": [],
   "source": []
  }
 ],
 "metadata": {
  "kernelspec": {
   "display_name": "farmbot",
   "language": "python",
   "name": "python3"
  },
  "language_info": {
   "codemirror_mode": {
    "name": "ipython",
    "version": 3
   },
   "file_extension": ".py",
   "mimetype": "text/x-python",
   "name": "python",
   "nbconvert_exporter": "python",
   "pygments_lexer": "ipython3",
   "version": "3.11.9"
  }
 },
 "nbformat": 4,
 "nbformat_minor": 2
}
