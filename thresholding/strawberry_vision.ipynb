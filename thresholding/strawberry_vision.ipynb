{
 "cells": [
  {
   "cell_type": "code",
   "execution_count": 10,
   "metadata": {},
   "outputs": [],
   "source": [
    "import cv2\n",
    "import open3d as o3d\n",
    "import numpy as np\n",
    "import colorsys\n",
    "import pyransac3d as pyrsc\n",
    "import copy"
   ]
  },
  {
   "cell_type": "code",
   "execution_count": 11,
   "metadata": {},
   "outputs": [],
   "source": [
    "def visualizer(cloud):\n",
    "\n",
    "    if type(cloud) == o3d.cpu.pybind.geometry.TriangleMesh:\n",
    "        vertices = np.asarray(cloud.vertices)\n",
    "        center_of_mass = np.mean(vertices, axis=0)\n",
    "    else:\n",
    "        # point cloud\n",
    "        center_of_mass = np.mean(np.asarray(cloud.points), axis=0)\n",
    "    \n",
    "    # print(\"com\", center_of_mass)\n",
    "    o3d.visualization.draw_geometries([cloud],\n",
    "                                  zoom=0.5,\n",
    "                                  front=[1, 0, 0],\n",
    "                                  lookat=center_of_mass,\n",
    "                                  up=[0, 0, 1])\n"
   ]
  },
  {
   "cell_type": "code",
   "execution_count": 12,
   "metadata": {},
   "outputs": [],
   "source": [
    "pcd = o3d.io.read_point_cloud(\"3dmodels/Strawberry_New.ply\")\n",
    "\n",
    "visualizer(pcd)"
   ]
  },
  {
   "cell_type": "code",
   "execution_count": 13,
   "metadata": {},
   "outputs": [],
   "source": [
    "# -2 to 2\n",
    "bounding_box = o3d.geometry.AxisAlignedBoundingBox(min_bound=(-1, -1, -1),\n",
    "                                                    max_bound=(1, 1, 1))\n",
    "\n",
    "filtered_cloud = pcd.crop(bounding_box)\n",
    "\n",
    "visualizer(filtered_cloud)"
   ]
  },
  {
   "cell_type": "code",
   "execution_count": 14,
   "metadata": {},
   "outputs": [],
   "source": [
    "threshold = 60 # in % max, min: [1.9655249  2.17742805 1.19400877], [-1.96551809e+00 -2.17745111e+00  9.51918373e-04]\n",
    "center_pc = pcd.get_center()\n",
    "max_v = pcd.get_max_bound()\n",
    "min_v = pcd.get_min_bound()\n",
    "\n",
    "size = (max_v - min_v) * 0.01 * threshold\n",
    "\n",
    "min_bound = center_pc - size\n",
    "max_bound = center_pc + size\n",
    "bounding_box = o3d.geometry.AxisAlignedBoundingBox(min_bound=min_bound,\n",
    "                                                    max_bound=max_bound)\n",
    "\n",
    "filtered_cloud = pcd.crop(bounding_box)\n",
    "\n",
    "visualizer(filtered_cloud)"
   ]
  },
  {
   "cell_type": "code",
   "execution_count": 15,
   "metadata": {},
   "outputs": [
    {
     "name": "stdout",
     "output_type": "stream",
     "text": [
      "34.48754705148163\n"
     ]
    }
   ],
   "source": [
    "s = 3  #no. of samples used every time to create the shape\n",
    "p = 0.99 #99%\n",
    "e = 0.5 # 50%\n",
    "k = np.log(1-p)/(np.log(1 - np.power((1-e), s)))\n",
    "print(k)\n",
    "# k => number of iterations"
   ]
  },
  {
   "cell_type": "code",
   "execution_count": 16,
   "metadata": {},
   "outputs": [],
   "source": [
    "\n",
    "# inlier_cloud = filtered_point_cloud.select_by_index(best_inliers_sphere)\n",
    "# outlier_cloud = filtered_point_cloud.select_by_index(best_inliers_sphere, invert=True)\n",
    "\n",
    "# # outlier_cloud.paint_uniform_color([1, 0, 0])\n",
    "# # inlier_cloud.paint_uniform_color([0, 1, 0])\n",
    "# o3d.visualization.draw_geometries([outlier_cloud],\n",
    "#                                     zoom=0.5,\n",
    "#                                     front=[1, 0, 0],\n",
    "#                                     lookat=[0, 0, 0],\n",
    "#                                     up=[0, 0, 1])"
   ]
  },
  {
   "cell_type": "code",
   "execution_count": 17,
   "metadata": {},
   "outputs": [],
   "source": [
    "def cloud_based_point_index(indexes, inlier=False):\n",
    "    outlier_cloud.paint_uniform_color([1, 0, 0])\n",
    "    inlier_cloud.paint_uniform_color([0, 1, 0])\n",
    "    if not inlier:\n",
    "        outlier_cloud = filtered_cloud.select_by_index(indexes, invert=True)\n",
    "\n",
    "        return outlier_cloud\n",
    "\n",
    "    else:\n",
    "        inlier_cloud = filtered_cloud.select_by_index(indexes)\n",
    "        o3d.visualization.draw_geometries([inlier_cloud],\n",
    "                                    zoom=0.5,\n",
    "                                    front=[1, 0, 0],\n",
    "                                    lookat=[0, 0, 0],\n",
    "                                    up=[0, 0, 1])\n",
    "        \n",
    "        return inlier_cloud\n"
   ]
  },
  {
   "cell_type": "code",
   "execution_count": 18,
   "metadata": {},
   "outputs": [],
   "source": [
    "point = pyrsc.Point()  #Using RANSAC\n",
    "# s = 1\n",
    "center, best_inliers_point = point.fit(np.asarray(filtered_cloud.points), thresh=0.7, maxIteration=10)\n",
    "\n",
    "inlier_cloud_point = filtered_cloud.select_by_index(best_inliers_point)\n",
    "outlier_cloud_point = filtered_cloud.select_by_index(best_inliers_point, invert=True)\n",
    "\n",
    "o3d.visualization.draw_geometries([inlier_cloud_point],\n",
    "                                    zoom=0.5,\n",
    "                                    front=[1, 0, 0],\n",
    "                                    lookat=[0, 0, 0],\n",
    "                                    up=[0, 0, 1])"
   ]
  },
  {
   "cell_type": "code",
   "execution_count": 19,
   "metadata": {},
   "outputs": [],
   "source": [
    "# sphere = pyrsc.Sphere()\n",
    "# # s = 4\n",
    "# center, radius, best_inliers_sphere = sphere.fit(np.asarray(inlier_cloud_point.points), thresh=0.1, maxIteration=75)\n",
    "\n",
    "# inlier_cloud_sphere = inlier_cloud_point.select_by_index(best_inliers_sphere)\n",
    "# outlier_cloud_sphere = inlier_cloud_point.select_by_index(best_inliers_sphere, invert=True)\n",
    "\n",
    "# # outlier_cloud_sphere.paint_uniform_color([1, 0, 0])\n",
    "# # inlier_cloud_sphere.paint_uniform_color([0, 1, 0])\n",
    "\n",
    "# o3d.visualization.draw_geometries([outlier_cloud_sphere],\n",
    "#                                     zoom=0.5,\n",
    "#                                     front=[1, 0, 0],\n",
    "#                                     lookat=[0, 0, 0],\n",
    "#                                     up=[0, 0, 1])"
   ]
  },
  {
   "cell_type": "code",
   "execution_count": 20,
   "metadata": {},
   "outputs": [],
   "source": [
    "# # plane??\n",
    "\n",
    "# sphere = pyrsc.Plane()\n",
    "# # s = 3\n",
    "# equation, best_inliers_plane = sphere.fit(np.asarray(inlier_cloud_point.points), thresh=0.095, maxIteration=40)\n",
    "\n",
    "# inlier_cloud_sphere = inlier_cloud_point.select_by_index(best_inliers_plane)\n",
    "# outlier_cloud_sphere = inlier_cloud_point.select_by_index(best_inliers_plane, invert=True)\n",
    "\n",
    "# # outlier_cloud_sphere.paint_uniform_color([1, 0, 0])\n",
    "# # inlier_cloud_sphere.paint_uniform_color([0, 1, 0])\n",
    "\n",
    "# o3d.visualization.draw_geometries([outlier_cloud_sphere],\n",
    "#                                     zoom=0.5,\n",
    "#                                     front=[1, 0, 0],\n",
    "#                                     lookat=[0, 0, 0],\n",
    "#                                     up=[0, 0, 1])"
   ]
  },
  {
   "cell_type": "code",
   "execution_count": 21,
   "metadata": {},
   "outputs": [],
   "source": [
    "# print('octree division')\n",
    "# octree = o3d.geometry.Octree(max_depth=15)\n",
    "# octree.convert_from_point_cloud(outlier_cloud_sphere, size_expand=0.0001)\n",
    "# o3d.visualization.draw_geometries([octree])"
   ]
  },
  {
   "cell_type": "code",
   "execution_count": 22,
   "metadata": {},
   "outputs": [],
   "source": [
    "pcd = inlier_cloud_point"
   ]
  },
  {
   "cell_type": "code",
   "execution_count": 23,
   "metadata": {},
   "outputs": [],
   "source": [
    "def convert_rgb_2_hsv(all_rgb_colors):\n",
    "    all_hsv_colors = []\n",
    "\n",
    "    for i in range(len(all_rgb_colors)):\n",
    "        temp_color = all_rgb_colors[i]\n",
    "        temp = colorsys.rgb_to_hsv(temp_color[0], temp_color[1], temp_color[2])\n",
    "        all_hsv_colors.append(temp)\n",
    "\n",
    "    all_hsv_colors = np.asarray(all_hsv_colors)\n",
    "\n",
    "    return all_hsv_colors\n",
    "\n",
    "all_rgb_colors = np.asarray(pcd.colors)\n",
    "all_hsv_colors = convert_rgb_2_hsv(all_rgb_colors)\n"
   ]
  },
  {
   "cell_type": "code",
   "execution_count": 24,
   "metadata": {},
   "outputs": [],
   "source": [
    "def hsv_filter(hsv_color):\n",
    "    low_h = 2/360\n",
    "    high_h = 180/360\n",
    "\n",
    "    low_s = 0/255\n",
    "    high_s = 40/255\n",
    "\n",
    "    low_v = 0/255\n",
    "    high_v = 255/255\n",
    "\n",
    "    # removes the background\n",
    "\n",
    "    if low_h <= hsv_color[0] <= high_h and low_s <= hsv_color[1] <= high_s and low_v <= hsv_color[2] <= high_v:\n",
    "        return True\n",
    "    else:\n",
    "        return False\n",
    "    "
   ]
  },
  {
   "cell_type": "code",
   "execution_count": 25,
   "metadata": {},
   "outputs": [],
   "source": [
    "def hsv_filter_red(hsv_color):\n",
    "\n",
    "    # print(\"color:\", hsv_color)\n",
    "    low_h = 0/360\n",
    "    high_h = 40/360 #20\n",
    "\n",
    "    low_h_1 = 340/360\n",
    "    high_h_1 = 360/360\n",
    "\n",
    "    # 330 to 30 degrees\n",
    "\n",
    "    low_s = 0.1 #0.3\n",
    "    high_s = 1\n",
    "\n",
    "    low_v = 0.4\n",
    "    high_v = 1\n",
    "\n",
    "    # red\n",
    "    # Lower bound: (0, 100, 100)\n",
    "    # Upper bound: (10, 255, 255)\n",
    "\n",
    "    if ((low_h <= hsv_color[0] <= high_h) or (low_h_1 <= hsv_color[0] <= high_h_1))and low_s <= hsv_color[1] <= high_s and low_v <= hsv_color[2] <= high_v:\n",
    "        return True\n",
    "    else:\n",
    "        return False\n",
    "    "
   ]
  },
  {
   "cell_type": "code",
   "execution_count": 26,
   "metadata": {},
   "outputs": [],
   "source": [
    "new_points = []\n",
    "new_colors = []\n",
    "new_colors_RGB_u = []\n",
    "\n",
    "for index, new_color in enumerate(all_hsv_colors):\n",
    "    new_point = pcd.points[index]\n",
    "    new_color_RGB = all_rgb_colors[index]\n",
    "    # if hsv_filter(new_color):\n",
    "    #     new_colors_RGB_u.append(new_color_RGB)\n",
    "    #     new_points.append(new_point)\n",
    "    #     new_colors.append(new_color)\n",
    "    #     # print(new_color_RGB)\n",
    "    if hsv_filter_red(new_color):\n",
    "        # break\n",
    "        new_colors_RGB_u.append(new_color_RGB)\n",
    "        new_points.append(new_point)\n",
    "        new_colors.append(new_color)\n",
    "\n",
    "new_colors_RGB_u = np.asarray(new_colors_RGB_u)\n",
    "new_colors = np.asarray(new_colors)\n",
    "new_points = np.asarray(new_points)\n",
    "\n",
    "filtered_point_cloud = o3d.geometry.PointCloud()\n",
    "filtered_point_cloud.points = o3d.utility.Vector3dVector(new_points)\n",
    "filtered_point_cloud.colors = o3d.utility.Vector3dVector(new_colors_RGB_u)\n",
    "visualizer(filtered_point_cloud)"
   ]
  },
  {
   "cell_type": "code",
   "execution_count": null,
   "metadata": {},
   "outputs": [
    {
     "name": "stdout",
     "output_type": "stream",
     "text": [
      "com [ 0.14531587 -0.39028612  0.26856929]\n"
     ]
    }
   ],
   "source": [
    "cl, ind = filtered_point_cloud.remove_statistical_outlier(nb_neighbors=70,\n",
    "                                                    std_ratio=1.0)\n",
    "cl.estimate_normals()\n",
    "visualizer(cl)\n"
   ]
  },
  {
   "cell_type": "code",
   "execution_count": null,
   "metadata": {},
   "outputs": [],
   "source": [
    "# plane??\n",
    "\n",
    "sphere = pyrsc.Plane()\n",
    "# s = 3\n",
    "equation, best_inliers_plane = sphere.fit(np.asarray(cl.points), thresh=0.095, maxIteration=40)\n",
    "\n",
    "inlier_cloud_plane = cl.select_by_index(best_inliers_plane)\n",
    "outlier_cloud_plane = cl.select_by_index(best_inliers_plane, invert=True)\n",
    "\n",
    "# outlier_cloud_plane.paint_uniform_color([1, 0, 0])\n",
    "# inlier_cloud_plane.paint_uniform_color([0, 1, 0])\n",
    "\n",
    "o3d.visualization.draw_geometries([outlier_cloud_plane],\n",
    "                                    zoom=0.5,\n",
    "                                    front=[1, 0, 0],\n",
    "                                    lookat=[0, 0, 0],\n",
    "                                    up=[0, 0, 1])"
   ]
  },
  {
   "cell_type": "code",
   "execution_count": null,
   "metadata": {},
   "outputs": [
    {
     "name": "stdout",
     "output_type": "stream",
     "text": [
      "com [ 0.1511416  -0.36989658  0.27466337]\n"
     ]
    }
   ],
   "source": [
    "filtered_point_cloud, _ = cl.remove_statistical_outlier(nb_neighbors=5, std_ratio=0.5)\n",
    "\n",
    "visualizer(filtered_point_cloud)"
   ]
  },
  {
   "cell_type": "code",
   "execution_count": null,
   "metadata": {},
   "outputs": [
    {
     "name": "stdout",
     "output_type": "stream",
     "text": [
      "com [ 0.20981086 -0.23630501  0.33284062]\n"
     ]
    }
   ],
   "source": [
    "filtered_point_cloud_r, _ = filtered_point_cloud.remove_radius_outlier(nb_points=15, radius=0.01)\n",
    "\n",
    "visualizer(filtered_point_cloud_r)\n"
   ]
  },
  {
   "cell_type": "code",
   "execution_count": null,
   "metadata": {},
   "outputs": [],
   "source": [
    "filtered_point_cloud_r = filtered_point_cloud"
   ]
  },
  {
   "cell_type": "code",
   "execution_count": null,
   "metadata": {},
   "outputs": [
    {
     "name": "stdout",
     "output_type": "stream",
     "text": [
      "[Open3D WARNING] invalid color in PaintUniformColor, clipping to [0, 1]\n",
      "[Open3D WARNING] invalid color in PaintUniformColor, clipping to [0, 1]\n",
      "[Open3D WARNING] invalid color in PaintUniformColor, clipping to [0, 1]\n",
      "[Open3D WARNING] invalid color in PaintUniformColor, clipping to [0, 1]\n",
      "[Open3D WARNING] invalid color in PaintUniformColor, clipping to [0, 1]\n",
      "[Open3D WARNING] invalid color in PaintUniformColor, clipping to [0, 1]\n",
      "[Open3D WARNING] invalid color in PaintUniformColor, clipping to [0, 1]\n",
      "[Open3D WARNING] invalid color in PaintUniformColor, clipping to [0, 1]\n",
      "[Open3D WARNING] invalid color in PaintUniformColor, clipping to [0, 1]\n",
      "[Open3D WARNING] invalid color in PaintUniformColor, clipping to [0, 1]\n",
      "[Open3D WARNING] invalid color in PaintUniformColor, clipping to [0, 1]\n",
      "[Open3D WARNING] invalid color in PaintUniformColor, clipping to [0, 1]\n",
      "[Open3D WARNING] invalid color in PaintUniformColor, clipping to [0, 1]\n",
      "[Open3D WARNING] invalid color in PaintUniformColor, clipping to [0, 1]\n",
      "[Open3D WARNING] invalid color in PaintUniformColor, clipping to [0, 1]\n",
      "[Open3D WARNING] invalid color in PaintUniformColor, clipping to [0, 1]\n",
      "[Open3D WARNING] invalid color in PaintUniformColor, clipping to [0, 1]\n",
      "[Open3D WARNING] invalid color in PaintUniformColor, clipping to [0, 1]\n"
     ]
    }
   ],
   "source": [
    "# Kmeans to segment\n",
    "from sklearn.cluster import KMeans\n",
    "\n",
    "# filtered_point_cloud = o3d.geometry.PointCloud()\n",
    "# def filter_red(points, colors):\n",
    "# Convert RGB colors to feature space suitable for clustering\n",
    "features = np.array(filtered_point_cloud_r.points)  # Use RGB directly as features\n",
    "\n",
    "# Apply K-means clustering\n",
    "kmeans = KMeans(n_clusters=19, random_state=0).fit(features)\n",
    "\n",
    "# Identify cluster representing red points\n",
    "# kmeans.cluster_centers_ -> gives the cenetrs of the clusters so i.e of the colors\n",
    "red_cluster_index = np.argmin(np.mean(kmeans.cluster_centers_, axis=1))\n",
    "\n",
    "# Filter points based on cluster membership\n",
    "# red_points = np.asarray(pcd.points)[kmeans.labels_ == red_cluster_index]\n",
    "# red_colors = np.asarray(pcd.colors)[kmeans.labels_ == red_cluster_index]\n",
    "\n",
    "# return red_points, red_colors\n",
    "\n",
    "# filtered_point_cloud.points = o3d.utility.Vector3dVector(red_points)\n",
    "# filtered_point_cloud.colors = o3d.utility.Vector3dVector(red_colors)\n",
    "\n",
    "color = [\n",
    "    [255, 0, 0],   # Red\n",
    "    [0, 255, 0],   # Green\n",
    "    [0, 0, 255],   # Blue\n",
    "    [255, 255, 0], # Yellow\n",
    "    [255, 0, 255], # Magenta\n",
    "    [0, 255, 255], # Cyan\n",
    "    [0, 128, 0],   # Green (dark)\n",
    "    [0, 0, 128],   # Navy\n",
    "    [128, 128, 0],  # Olive\n",
    "    [128, 0, 128],  # Purple\n",
    "    [0, 128, 128],  # Teal\n",
    "    [128, 128, 128],# Gray\n",
    "    [255, 165, 0],  # Orange\n",
    "    [255, 192, 203],# Pink\n",
    "    [0, 0, 0],      # Black\n",
    "    [255, 255, 255],# White\n",
    "    [128, 0, 0],    # Maroon (dark)\n",
    "    [0, 128, 0],    # Green (medium)\n",
    "    [0, 0, 128]  \n",
    "]\n",
    "\n",
    "outlier_cloud_sph = []\n",
    "final_segments  = []\n",
    "\n",
    "avg = []\n",
    "\n",
    "for i in range(len(kmeans.cluster_centers_)):\n",
    "    temp_p = np.where(kmeans.labels_ == i)\n",
    "    temp_sphere = filtered_point_cloud_r.select_by_index(temp_p[0])\n",
    "    temp_points = np.asarray(filtered_point_cloud_r.colors)[kmeans.labels_ == i]\n",
    "    temp_avg = np.average(temp_points, axis=0)\n",
    "    avg.append(temp_avg)\n",
    "    deep_copy_seg = copy.deepcopy(temp_sphere)\n",
    "    final_segments.append(deep_copy_seg)\n",
    "    outlier_cloud_sph.append(temp_sphere)\n",
    "    temp_sphere.paint_uniform_color(color[i])\n",
    "\n",
    "geometries_to_visualize = [outlier_cloud_sph[i] for i in range(len(kmeans.cluster_centers_))]  # Adjust the range as needed\n",
    "\n",
    "o3d.visualization.draw_geometries(geometries_to_visualize,\n",
    "                                    zoom=0.5,\n",
    "                                    front=[1, 0, 0],\n",
    "                                    lookat=[0, 0, 0],\n",
    "                                    up=[0, 0, 1])\n",
    "\n"
   ]
  },
  {
   "cell_type": "code",
   "execution_count": null,
   "metadata": {},
   "outputs": [
    {
     "name": "stdout",
     "output_type": "stream",
     "text": [
      "[[0.09074702 0.35829127 0.64542986]\n",
      " [0.09430054 0.20623786 0.62381553]\n",
      " [0.08650224 0.42516879 0.53192749]\n",
      " [0.09520591 0.27250626 0.5218762 ]\n",
      " [0.09722635 0.16132125 0.55646259]\n",
      " [0.09160605 0.53674782 0.55526861]\n",
      " [0.08461302 0.31069929 0.54098815]\n",
      " [0.09601218 0.32564094 0.55290292]\n",
      " [0.08935027 0.1894224  0.57592968]\n",
      " [0.08685121 0.34048068 0.55272412]\n",
      " [0.02403794 0.62934027 0.68546075]\n",
      " [0.07708701 0.3048965  0.56417047]\n",
      " [0.09701686 0.19978234 0.58432887]\n",
      " [0.09154102 0.25120512 0.54983097]\n",
      " [0.07292691 0.37504305 0.54692093]\n",
      " [0.10088496 0.1761588  0.69876543]\n",
      " [0.06571062 0.2247883  0.63676471]\n",
      " [0.09878158 0.36578249 0.69473247]\n",
      " [0.09622021 0.20039519 0.6843588 ]]\n",
      "com [0.22423968 0.05709186 0.32194959]\n"
     ]
    }
   ],
   "source": [
    "def convert_rgb_2_hsv(all_rgb_colors):\n",
    "    all_hsv_colors_segement = []\n",
    "\n",
    "    for i in range(len(all_rgb_colors)):\n",
    "        temp_color = all_rgb_colors[i]\n",
    "        temp = colorsys.rgb_to_hsv(temp_color[0], temp_color[1], temp_color[2])\n",
    "        all_hsv_colors_segement.append(temp)\n",
    "\n",
    "    all_hsv_colors_segement = np.asarray(all_hsv_colors_segement)\n",
    "\n",
    "    return all_hsv_colors_segement\n",
    "\n",
    "all_hsv_colors_segement = convert_rgb_2_hsv(avg)\n",
    "\n",
    "print(all_hsv_colors_segement)\n",
    "\n",
    "index = np.argmin(all_hsv_colors_segement, axis=0)[0]\n",
    "\n",
    "visualizer(final_segments[index])"
   ]
  },
  {
   "cell_type": "code",
   "execution_count": null,
   "metadata": {},
   "outputs": [],
   "source": [
    "cld = final_segments[index]"
   ]
  },
  {
   "cell_type": "code",
   "execution_count": null,
   "metadata": {},
   "outputs": [
    {
     "name": "stdout",
     "output_type": "stream",
     "text": [
      "com [0.22496017 0.06124204 0.33235699]\n"
     ]
    }
   ],
   "source": [
    "sphere = pyrsc.Sphere()\n",
    "# s = 4\n",
    "center, radius, best_inliers_sphere = sphere.fit(np.asarray(cld.points), thresh=0.02, maxIteration=75)\n",
    "\n",
    "inlier_cloud_sphere_new = cld.select_by_index(best_inliers_sphere)\n",
    "# outlier_cloud_sphere = cld.select_by_index(best_inliers_sphere, invert=True)\n",
    "\n",
    "# outlier_cloud_sphere.paint_uniform_color([1, 0, 0])\n",
    "# inlier_cloud_sphere.paint_uniform_color([0, 1, 0])\n",
    "\n",
    "visualizer(inlier_cloud_sphere_new)\n",
    "# o3d.visualization.draw_geometries([outlier_cloud_sphere, inlier_cloud_sphere])\n",
    "\n",
    "cld = inlier_cloud_sphere_new"
   ]
  },
  {
   "cell_type": "code",
   "execution_count": null,
   "metadata": {},
   "outputs": [],
   "source": [
    "# Get the center of the strawberry\n",
    "center_strawberry = cld.get_center()\n",
    "\n",
    "center_pc = o3d.geometry.PointCloud()\n",
    "center_pc.points = o3d.utility.Vector3dVector(np.asarray([center_strawberry]))\n",
    "center_pc.paint_uniform_color([0, 0, 1])\n",
    "\n",
    "o3d.visualization.draw_geometries([cld, center_pc])"
   ]
  },
  {
   "cell_type": "code",
   "execution_count": null,
   "metadata": {},
   "outputs": [
    {
     "name": "stdout",
     "output_type": "stream",
     "text": [
      "[Open3D WARNING] [CreateFromPointCloudAlphaShape] invalid tetra in TetraMesh\n",
      "[Open3D WARNING] [CreateFromPointCloudAlphaShape] invalid tetra in TetraMesh\n",
      "[Open3D WARNING] [CreateFromPointCloudAlphaShape] invalid tetra in TetraMesh\n",
      "[Open3D WARNING] [CreateFromPointCloudAlphaShape] invalid tetra in TetraMesh\n",
      "[Open3D WARNING] [CreateFromPointCloudAlphaShape] invalid tetra in TetraMesh\n",
      "com [0.22495377 0.06125265 0.33235703]\n",
      "[Open3D WARNING] GLFW Error: WGL: Failed to make context current: The handle is invalid. \n"
     ]
    }
   ],
   "source": [
    "radii = [0.005, 0.01]\n",
    "cld.estimate_normals()\n",
    "mesh = o3d.geometry.TriangleMesh.create_from_point_cloud_alpha_shape(\n",
    "    cld, alpha=0.01)\n",
    "\n",
    "# with o3d.utility.VerbosityContextManager(\n",
    "#         o3d.utility.VerbosityLevel.Debug) as cm:\n",
    "#     mesh, densities = o3d.geometry.TriangleMesh.create_from_point_cloud_poisson(\n",
    "#         cld, depth=10)\n",
    "\n",
    "visualizer(mesh)\n",
    "\n",
    "# Can make much better meshes\n"
   ]
  },
  {
   "cell_type": "code",
   "execution_count": null,
   "metadata": {},
   "outputs": [],
   "source": [
    "def color_bounding_box(box):\n",
    "    # visualizer(mesh)\n",
    "    vertices = np.asarray(box.get_box_points())\n",
    "\n",
    "    # Define the edges of the oriented bounding box\n",
    "    lines = [\n",
    "        [0, 1], [1, 2], [2, 3], [3, 0],\n",
    "        [4, 5], [5, 6], [6, 7], [7, 4],\n",
    "        [0, 4], [1, 5], [2, 6], [3, 7]\n",
    "    ]\n",
    "\n",
    "    # Create a LineSet to represent the box\n",
    "    line_set = o3d.geometry.LineSet(\n",
    "        points=o3d.utility.Vector3dVector(vertices),\n",
    "        lines=o3d.utility.Vector2iVector(lines)\n",
    "    )\n",
    "\n",
    "    # Set the color of the box (e.g., red)\n",
    "    line_set.colors = o3d.utility.Vector3dVector(np.tile([1, 0, 0], (len(lines), 1)))\n",
    "    # o3d.visualization.draw_geometries([mesh, line_set],\n",
    "    #                                 zoom=0.5,\n",
    "    #                                 front=[1, 0, 0],\n",
    "    #                                 lookat=[-0.05272632, -0.02440209, 0.48188474],\n",
    "    #                                 up=[0, 0, 1])\n",
    "\n",
    "    return line_set"
   ]
  },
  {
   "cell_type": "code",
   "execution_count": null,
   "metadata": {},
   "outputs": [],
   "source": [
    "_, _, v = np.linalg.svd(np.asarray(cld.points))\n",
    "principal_axes = v[:3, :]\n",
    "\n",
    "# Create coordinate axes with the y-axis aligned along the principal axis with the largest eigenvalue\n",
    "coordinate_axes = o3d.geometry.TriangleMesh.create_coordinate_frame(\n",
    "    size=0.1, origin=np.mean(np.asarray(cld.points), axis=0))\n",
    "\n",
    "# Visualize the strawberry point cloud along with the coordinate axes\n",
    "o3d.visualization.draw_geometries([cld, coordinate_axes],\n",
    "                                  zoom=0.5,\n",
    "                                  front=[1, 0, 0],\n",
    "                                  lookat=np.mean(np.asarray(cld.points), axis=0),\n",
    "                                  up=[0, 0, 1])"
   ]
  },
  {
   "cell_type": "code",
   "execution_count": null,
   "metadata": {},
   "outputs": [
    {
     "ename": "NameError",
     "evalue": "name 'mesh' is not defined",
     "output_type": "error",
     "traceback": [
      "\u001b[1;31m---------------------------------------------------------------------------\u001b[0m",
      "\u001b[1;31mNameError\u001b[0m                                 Traceback (most recent call last)",
      "Cell \u001b[1;32mIn[33], line 2\u001b[0m\n\u001b[0;32m      1\u001b[0m \u001b[38;5;66;03m# AABB box\u001b[39;00m\n\u001b[1;32m----> 2\u001b[0m box_triangle \u001b[38;5;241m=\u001b[39m \u001b[43mmesh\u001b[49m\u001b[38;5;241m.\u001b[39mget_axis_aligned_bounding_box()\n\u001b[0;32m      3\u001b[0m line_set_triangle \u001b[38;5;241m=\u001b[39m color_bounding_box(box_triangle)\n\u001b[0;32m      4\u001b[0m o3d\u001b[38;5;241m.\u001b[39mvisualization\u001b[38;5;241m.\u001b[39mdraw_geometries([mesh, line_set_triangle, center_pc])\n",
      "\u001b[1;31mNameError\u001b[0m: name 'mesh' is not defined"
     ]
    }
   ],
   "source": [
    "# AABB box\n",
    "box_triangle = mesh.get_axis_aligned_bounding_box()\n",
    "line_set_triangle = color_bounding_box(box_triangle)\n",
    "o3d.visualization.draw_geometries([mesh, line_set_triangle, center_pc])"
   ]
  },
  {
   "cell_type": "code",
   "execution_count": null,
   "metadata": {},
   "outputs": [
    {
     "name": "stdout",
     "output_type": "stream",
     "text": [
      "com [0.22495429 0.06125317 0.33235754]\n"
     ]
    }
   ],
   "source": [
    "mesh = mesh.compute_triangle_normals()\n",
    "vertices = np.asarray(mesh.vertices)\n",
    "center_of_mass = np.mean(vertices, axis=0)\n",
    "m1 = mesh.create_coordinate_frame(size=0.00001, origin=center_of_mass)\n",
    "visualizer(m1)"
   ]
  },
  {
   "cell_type": "code",
   "execution_count": null,
   "metadata": {},
   "outputs": [],
   "source": [
    "hull, _ = cld.compute_convex_hull()  #cld -> is the point cloud\n",
    "hull_ls = o3d.geometry.LineSet.create_from_triangle_mesh(hull)\n",
    "hull_ls.paint_uniform_color((0, 0 , 1))\n",
    "# visualizer(hull_ls)\n",
    "o3d.visualization.draw_geometries([cld, hull])"
   ]
  },
  {
   "cell_type": "code",
   "execution_count": null,
   "metadata": {},
   "outputs": [
    {
     "name": "stdout",
     "output_type": "stream",
     "text": [
      "[Open3D WARNING] GLFW Error: WGL: Failed to make context current: The handle is invalid. \n",
      "0.00018634931720575216\n"
     ]
    }
   ],
   "source": [
    "hull.remove_degenerate_triangles()\n",
    "hull.compute_vertex_normals()\n",
    "hull.orient_triangles()\n",
    "o3d.visualization.draw_geometries([cld, hull])\n",
    "volume = hull.get_volume()\n",
    "print(volume)"
   ]
  },
  {
   "cell_type": "code",
   "execution_count": null,
   "metadata": {},
   "outputs": [
    {
     "data": {
      "text/plain": [
       "0.000596328157324427"
      ]
     },
     "execution_count": 212,
     "metadata": {},
     "output_type": "execute_result"
    }
   ],
   "source": [
    "volume #in mm^3??"
   ]
  },
  {
   "cell_type": "code",
   "execution_count": null,
   "metadata": {},
   "outputs": [],
   "source": [
    "# whole plant\n",
    "hull_new, ls_new = pcd.compute_convex_hull()\n",
    "hull_new.remove_degenerate_triangles()\n",
    "hull_new.compute_vertex_normals()\n",
    "\n",
    "o3d.visualization.draw_geometries([pcd, hull_new])\n",
    "volume = hull_new.get_volume()"
   ]
  },
  {
   "cell_type": "code",
   "execution_count": null,
   "metadata": {},
   "outputs": [
    {
     "data": {
      "text/plain": [
       "4.158153960855363"
      ]
     },
     "execution_count": 203,
     "metadata": {},
     "output_type": "execute_result"
    }
   ],
   "source": [
    "volume"
   ]
  },
  {
   "cell_type": "code",
   "execution_count": null,
   "metadata": {},
   "outputs": [
    {
     "name": "stdout",
     "output_type": "stream",
     "text": [
      "5.844015941779384e-10\n"
     ]
    }
   ],
   "source": [
    "# d = m/v\n",
    "density = 980 \t #in g/m^3 #1146.43 #in kg/m^3\n",
    "v_new = 5.963281573244269439e-13\n",
    "mass = density*v_new\n",
    "print(mass)"
   ]
  }
 ],
 "metadata": {
  "kernelspec": {
   "display_name": "farmbot",
   "language": "python",
   "name": "python3"
  },
  "language_info": {
   "codemirror_mode": {
    "name": "ipython",
    "version": 3
   },
   "file_extension": ".py",
   "mimetype": "text/x-python",
   "name": "python",
   "nbconvert_exporter": "python",
   "pygments_lexer": "ipython3",
   "version": "3.11.9"
  }
 },
 "nbformat": 4,
 "nbformat_minor": 2
}
