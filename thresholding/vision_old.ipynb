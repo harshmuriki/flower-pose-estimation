{
 "cells": [
  {
   "cell_type": "code",
   "execution_count": 1,
   "metadata": {},
   "outputs": [
    {
     "name": "stdout",
     "output_type": "stream",
     "text": [
      "Jupyter environment detected. Enabling Open3D WebVisualizer.\n",
      "[Open3D INFO] WebRTC GUI backend enabled.\n",
      "[Open3D INFO] WebRTCWindowSystem: HTTP handshake server disabled.\n"
     ]
    }
   ],
   "source": [
    "import cv2\n",
    "import open3d as o3d\n",
    "import numpy as np\n",
    "import colorsys\n",
    "import pyransac3d as pyrsc"
   ]
  },
  {
   "cell_type": "code",
   "execution_count": 2,
   "metadata": {},
   "outputs": [],
   "source": [
    "def visualizer(cloud):\n",
    "    o3d.visualization.draw_geometries([cloud],\n",
    "                                  zoom=0.5,\n",
    "                                  front=[1, 0, 0],\n",
    "                                  lookat=[0, 0, 0],\n",
    "                                  up=[0, 0, 1])\n"
   ]
  },
  {
   "cell_type": "code",
   "execution_count": 3,
   "metadata": {},
   "outputs": [],
   "source": [
    "pcd = o3d.io.read_point_cloud(\"3dmodels/Strawberry_Only.ply\")\n",
    "\n",
    "visualizer(pcd)"
   ]
  },
  {
   "cell_type": "code",
   "execution_count": 4,
   "metadata": {},
   "outputs": [],
   "source": [
    "# -2 to 2\n",
    "bounding_box = o3d.geometry.AxisAlignedBoundingBox(min_bound=(-1, -1, -1),\n",
    "                                                    max_bound=(1, 1, 1))\n",
    "\n",
    "filtered_cloud = pcd.crop(bounding_box)\n",
    "\n",
    "visualizer(filtered_cloud)"
   ]
  },
  {
   "cell_type": "code",
   "execution_count": 86,
   "metadata": {},
   "outputs": [
    {
     "name": "stdout",
     "output_type": "stream",
     "text": [
      "34.48754705148163\n"
     ]
    }
   ],
   "source": [
    "s = 3  #no. of samples used every time to create the shape\n",
    "p = 0.99 #99%\n",
    "e = 0.5 # 50%\n",
    "k = np.log(1-p)/(np.log(1 - np.power((1-e), s)))\n",
    "print(k)\n",
    "# k => number of iterations"
   ]
  },
  {
   "cell_type": "code",
   "execution_count": 47,
   "metadata": {},
   "outputs": [],
   "source": [
    "\n",
    "# inlier_cloud = filtered_point_cloud.select_by_index(best_inliers_sphere)\n",
    "# outlier_cloud = filtered_point_cloud.select_by_index(best_inliers_sphere, invert=True)\n",
    "\n",
    "# # outlier_cloud.paint_uniform_color([1, 0, 0])\n",
    "# # inlier_cloud.paint_uniform_color([0, 1, 0])\n",
    "# o3d.visualization.draw_geometries([outlier_cloud],\n",
    "#                                     zoom=0.5,\n",
    "#                                     front=[1, 0, 0],\n",
    "#                                     lookat=[0, 0, 0],\n",
    "#                                     up=[0, 0, 1])"
   ]
  },
  {
   "cell_type": "code",
   "execution_count": 48,
   "metadata": {},
   "outputs": [],
   "source": [
    "def cloud_based_point_index(indexes, inlier=False):\n",
    "    outlier_cloud.paint_uniform_color([1, 0, 0])\n",
    "    inlier_cloud.paint_uniform_color([0, 1, 0])\n",
    "    if not inlier:\n",
    "        outlier_cloud = filtered_cloud.select_by_index(indexes, invert=True)\n",
    "\n",
    "        return outlier_cloud\n",
    "\n",
    "    else:\n",
    "        inlier_cloud = filtered_cloud.select_by_index(indexes)\n",
    "        o3d.visualization.draw_geometries([inlier_cloud],\n",
    "                                    zoom=0.5,\n",
    "                                    front=[1, 0, 0],\n",
    "                                    lookat=[0, 0, 0],\n",
    "                                    up=[0, 0, 1])\n",
    "        \n",
    "        return inlier_cloud\n"
   ]
  },
  {
   "cell_type": "code",
   "execution_count": 15,
   "metadata": {},
   "outputs": [],
   "source": [
    "point = pyrsc.Point()  #Using RANSAC\n",
    "# s = 1\n",
    "center, best_inliers_point = point.fit(np.asarray(filtered_cloud.points), thresh=0.7, maxIteration=10)\n",
    "\n",
    "inlier_cloud_point = filtered_cloud.select_by_index(best_inliers_point)\n",
    "outlier_cloud_point = filtered_cloud.select_by_index(best_inliers_point, invert=True)\n",
    "\n",
    "o3d.visualization.draw_geometries([inlier_cloud_point],\n",
    "                                    zoom=0.5,\n",
    "                                    front=[1, 0, 0],\n",
    "                                    lookat=[0, 0, 0],\n",
    "                                    up=[0, 0, 1])"
   ]
  },
  {
   "cell_type": "code",
   "execution_count": 14,
   "metadata": {},
   "outputs": [],
   "source": [
    "# sphere = pyrsc.Sphere()\n",
    "# # s = 4\n",
    "# center, radius, best_inliers_sphere = sphere.fit(np.asarray(inlier_cloud_point.points), thresh=0.1, maxIteration=75)\n",
    "\n",
    "# inlier_cloud_sphere = inlier_cloud_point.select_by_index(best_inliers_sphere)\n",
    "# outlier_cloud_sphere = inlier_cloud_point.select_by_index(best_inliers_sphere, invert=True)\n",
    "\n",
    "# # outlier_cloud_sphere.paint_uniform_color([1, 0, 0])\n",
    "# # inlier_cloud_sphere.paint_uniform_color([0, 1, 0])\n",
    "\n",
    "# o3d.visualization.draw_geometries([outlier_cloud_sphere],\n",
    "#                                     zoom=0.5,\n",
    "#                                     front=[1, 0, 0],\n",
    "#                                     lookat=[0, 0, 0],\n",
    "#                                     up=[0, 0, 1])"
   ]
  },
  {
   "cell_type": "code",
   "execution_count": 7,
   "metadata": {},
   "outputs": [],
   "source": [
    "# # plane??\n",
    "\n",
    "# sphere = pyrsc.Plane()\n",
    "# # s = 3\n",
    "# equation, best_inliers_plane = sphere.fit(np.asarray(inlier_cloud_point.points), thresh=0.095, maxIteration=40)\n",
    "\n",
    "# inlier_cloud_sphere = inlier_cloud_point.select_by_index(best_inliers_plane)\n",
    "# outlier_cloud_sphere = inlier_cloud_point.select_by_index(best_inliers_plane, invert=True)\n",
    "\n",
    "# # outlier_cloud_sphere.paint_uniform_color([1, 0, 0])\n",
    "# # inlier_cloud_sphere.paint_uniform_color([0, 1, 0])\n",
    "\n",
    "# o3d.visualization.draw_geometries([outlier_cloud_sphere],\n",
    "#                                     zoom=0.5,\n",
    "#                                     front=[1, 0, 0],\n",
    "#                                     lookat=[0, 0, 0],\n",
    "#                                     up=[0, 0, 1])"
   ]
  },
  {
   "cell_type": "code",
   "execution_count": 12,
   "metadata": {},
   "outputs": [],
   "source": [
    "# print('octree division')\n",
    "# octree = o3d.geometry.Octree(max_depth=15)\n",
    "# octree.convert_from_point_cloud(outlier_cloud_sphere, size_expand=0.0001)\n",
    "# o3d.visualization.draw_geometries([octree])"
   ]
  },
  {
   "cell_type": "code",
   "execution_count": 18,
   "metadata": {},
   "outputs": [],
   "source": [
    "pcd = inlier_cloud_point"
   ]
  },
  {
   "cell_type": "code",
   "execution_count": 19,
   "metadata": {},
   "outputs": [],
   "source": [
    "def convert_rgb_2_hsv(all_rgb_colors):\n",
    "    all_hsv_colors = []\n",
    "\n",
    "    for i in range(len(all_rgb_colors)):\n",
    "        temp_color = all_rgb_colors[i]\n",
    "        temp = colorsys.rgb_to_hsv(temp_color[0], temp_color[1], temp_color[2])\n",
    "        all_hsv_colors.append(temp)\n",
    "\n",
    "    all_hsv_colors = np.asarray(all_hsv_colors)\n",
    "\n",
    "    return all_hsv_colors\n",
    "\n",
    "all_rgb_colors = np.asarray(pcd.colors)\n",
    "all_hsv_colors = convert_rgb_2_hsv(all_rgb_colors)\n"
   ]
  },
  {
   "cell_type": "code",
   "execution_count": 20,
   "metadata": {},
   "outputs": [],
   "source": [
    "def hsv_filter(hsv_color):\n",
    "    low_h = 2/360\n",
    "    high_h = 180/360\n",
    "\n",
    "    low_s = 0/255\n",
    "    high_s = 40/255\n",
    "\n",
    "    low_v = 0/255\n",
    "    high_v = 255/255\n",
    "\n",
    "    # removes the background\n",
    "\n",
    "    if low_h <= hsv_color[0] <= high_h and low_s <= hsv_color[1] <= high_s and low_v <= hsv_color[2] <= high_v:\n",
    "        return True\n",
    "    else:\n",
    "        return False\n",
    "    "
   ]
  },
  {
   "cell_type": "code",
   "execution_count": 21,
   "metadata": {},
   "outputs": [],
   "source": [
    "def hsv_filter_red(hsv_color):\n",
    "\n",
    "    # print(\"color:\", hsv_color)\n",
    "    low_h = 0/360\n",
    "    high_h = 40/360\n",
    "\n",
    "    low_h_1 = 340/360\n",
    "    high_h_1 = 360/360\n",
    "\n",
    "    # 330 to 30 degrees\n",
    "\n",
    "    low_s = 0.1\n",
    "    high_s = 1\n",
    "\n",
    "    low_v = 0.4\n",
    "    high_v = 1\n",
    "\n",
    "    # red\n",
    "    # Lower bound: (0, 100, 100)\n",
    "    # Upper bound: (10, 255, 255)\n",
    "\n",
    "    if ((low_h <= hsv_color[0] <= high_h) or (low_h_1 <= hsv_color[0] <= high_h_1))and low_s <= hsv_color[1] <= high_s and low_v <= hsv_color[2] <= high_v:\n",
    "        return True\n",
    "    else:\n",
    "        return False\n",
    "\n",
    "    # red = hsv_color[0]\n",
    "    # green = hsv_color[1]\n",
    "    # blue = hsv_color[2]\n",
    "\n",
    "    # print(red)\n",
    "\n",
    "\n",
    "    if red >= (150/255) and red <= (250/255):\n",
    "        return True\n",
    "    else:\n",
    "        return False\n",
    "    "
   ]
  },
  {
   "cell_type": "code",
   "execution_count": 22,
   "metadata": {},
   "outputs": [],
   "source": [
    "new_points = []\n",
    "new_colors = []\n",
    "new_colors_RGB_u = []\n",
    "\n",
    "for index, new_color in enumerate(all_hsv_colors):\n",
    "    new_point = pcd.points[index]\n",
    "    new_color_RGB = all_rgb_colors[index]\n",
    "    # if hsv_filter(new_color):\n",
    "    #     new_colors_RGB_u.append(new_color_RGB)\n",
    "    #     new_points.append(new_point)\n",
    "    #     new_colors.append(new_color)\n",
    "    #     # print(new_color_RGB)\n",
    "    if hsv_filter_red(new_color):\n",
    "        # break\n",
    "        new_colors_RGB_u.append(new_color_RGB)\n",
    "        new_points.append(new_point)\n",
    "        new_colors.append(new_color)\n",
    "\n",
    "new_colors_RGB_u = np.asarray(new_colors_RGB_u)\n",
    "new_colors = np.asarray(new_colors)\n",
    "new_points = np.asarray(new_points)\n",
    "\n",
    "filtered_point_cloud = o3d.geometry.PointCloud()\n",
    "filtered_point_cloud.points = o3d.utility.Vector3dVector(new_points)\n",
    "filtered_point_cloud.colors = o3d.utility.Vector3dVector(new_colors_RGB_u)\n",
    "visualizer(filtered_point_cloud)"
   ]
  },
  {
   "cell_type": "code",
   "execution_count": 32,
   "metadata": {},
   "outputs": [],
   "source": [
    "cl, ind = filtered_point_cloud.remove_statistical_outlier(nb_neighbors=70,\n",
    "                                                    std_ratio=1.0)\n",
    "cl.estimate_normals()\n",
    "visualizer(cl)\n"
   ]
  },
  {
   "cell_type": "code",
   "execution_count": 33,
   "metadata": {},
   "outputs": [],
   "source": [
    "# plane??\n",
    "\n",
    "sphere = pyrsc.Plane()\n",
    "# s = 3\n",
    "equation, best_inliers_plane = sphere.fit(np.asarray(cl.points), thresh=0.095, maxIteration=40)\n",
    "\n",
    "inlier_cloud_plane = cl.select_by_index(best_inliers_plane)\n",
    "outlier_cloud_plane = cl.select_by_index(best_inliers_plane, invert=True)\n",
    "\n",
    "# outlier_cloud_plane.paint_uniform_color([1, 0, 0])\n",
    "# inlier_cloud_plane.paint_uniform_color([0, 1, 0])\n",
    "\n",
    "o3d.visualization.draw_geometries([outlier_cloud_plane],\n",
    "                                    zoom=0.5,\n",
    "                                    front=[1, 0, 0],\n",
    "                                    lookat=[0, 0, 0],\n",
    "                                    up=[0, 0, 1])"
   ]
  },
  {
   "cell_type": "code",
   "execution_count": 28,
   "metadata": {},
   "outputs": [
    {
     "name": "stdout",
     "output_type": "stream",
     "text": [
      "[Open3D DEBUG] Precompute neighbors.\n",
      "[Open3D DEBUG] Done Precompute neighbors.\n",
      "[Open3D DEBUG] Compute Clusters\n",
      "[Open3D DEBUG] Done Compute Clusters: 59\n",
      "point cloud has 59 clusters\n",
      "[Open3D WARNING] GLFW Error: WGL: Failed to make context current: The requested transformation operation is not supported. \n",
      "[Open3D WARNING] GLFW Error: WGL: Failed to make context current: The handle is invalid. \n"
     ]
    }
   ],
   "source": [
    "# ply_point_cloud = o3d.data.PLYPointCloud()\n",
    "# pcd = o3d.io.read_point_cloud(ply_point_cloud.path)\n",
    "\n",
    "with o3d.utility.VerbosityContextManager(\n",
    "        o3d.utility.VerbosityLevel.Debug) as cm:\n",
    "    labels = np.array(\n",
    "        cl.cluster_dbscan(eps=0.02, min_points=30, print_progress=True))\n",
    "\n",
    "max_label = labels.max()\n",
    "print(f\"point cloud has {max_label + 1} clusters\")\n",
    "# colors = cl.get_cmap(\"tab20\")(labels / (max_label if max_label > 0 else 1))\n",
    "# colors[labels < 0] = 0\n",
    "cl.colors = o3d.utility.Vector3dVector(all_rgb_colors[:, :3])\n",
    "visualizer(cl)"
   ]
  },
  {
   "cell_type": "code",
   "execution_count": 166,
   "metadata": {},
   "outputs": [],
   "source": [
    "import open3d as o3d\n",
    "from sklearn.cluster import DBSCAN\n",
    "import numpy as np\n",
    "\n",
    "def cluster_dbscan(point_cloud, eps, min_samples):\n",
    "    # Convert Open3D point cloud to numpy array\n",
    "    points = np.asarray(point_cloud.points)\n",
    "\n",
    "    # Perform DBSCAN clustering\n",
    "    dbscan = DBSCAN(eps=eps, min_samples=min_samples)\n",
    "    labels = dbscan.fit_predict(points)\n",
    "\n",
    "    # Get unique cluster labels\n",
    "    unique_labels = np.unique(labels)\n",
    "\n",
    "    # Calculate cluster sizes\n",
    "    cluster_sizes = {label: np.sum(labels == label) for label in unique_labels}\n",
    "\n",
    "    return labels, cluster_sizes\n",
    "\n",
    "def remove_small_clusters(point_cloud, labels, min_cluster_size):\n",
    "    # Convert Open3D point cloud to numpy array\n",
    "    points = np.asarray(point_cloud.points)\n",
    "    colors = np.asarray(point_cloud.colors)\n",
    "\n",
    "    # Get unique cluster labels\n",
    "    unique_labels, cluster_counts = np.unique(labels, return_counts=True)\n",
    "\n",
    "    # Filter out small clusters\n",
    "    large_clusters_mask = cluster_counts >= min_cluster_size\n",
    "    large_clusters = unique_labels[large_clusters_mask]\n",
    "\n",
    "    # Filter points and colors belonging to large clusters\n",
    "    filtered_points = points[np.isin(labels, large_clusters)]\n",
    "    filtered_colors = colors[np.isin(labels, large_clusters)]\n",
    "\n",
    "    # Create a new point cloud with filtered points\n",
    "    filtered_point_cloud_new = o3d.geometry.PointCloud()\n",
    "    filtered_point_cloud_new.points = o3d.utility.Vector3dVector(filtered_points)\n",
    "    filtered_point_cloud_new.colors = o3d.utility.Vector3dVector(filtered_colors)\n",
    "\n",
    "    return filtered_point_cloud_new\n",
    "\n",
    "\n",
    "# Example usage:\n",
    "# Assuming 'point_cloud' is your point cloud data\n",
    "eps = 0.1  # DBSCAN epsilon parameter\n",
    "min_samples = 10  # Minimum number of samples required to form a cluster\n",
    "min_cluster_size = 10  # Minimum size of a cluster to keep\n",
    "\n",
    "# Perform DBSCAN clustering\n",
    "labels, cluster_sizes = cluster_dbscan(filtered_point_cloud, eps, min_samples)\n",
    "\n",
    "# Remove small clusters\n",
    "# filtered_point_cloud = remove_small_clusters(cl, labels, min_cluster_size)\n",
    "\n",
    "# Visualize the filtered point cloud\n",
    "# visualizer(filtered_point_cloud)"
   ]
  },
  {
   "cell_type": "code",
   "execution_count": 167,
   "metadata": {},
   "outputs": [
    {
     "name": "stdout",
     "output_type": "stream",
     "text": [
      "[Open3D WARNING] invalid color in PaintUniformColor, clipping to [0, 1]\n",
      "[Open3D WARNING] invalid color in PaintUniformColor, clipping to [0, 1]\n",
      "[Open3D WARNING] invalid color in PaintUniformColor, clipping to [0, 1]\n",
      "[Open3D WARNING] invalid color in PaintUniformColor, clipping to [0, 1]\n",
      "[Open3D WARNING] invalid color in PaintUniformColor, clipping to [0, 1]\n",
      "[Open3D WARNING] invalid color in PaintUniformColor, clipping to [0, 1]\n",
      "[Open3D WARNING] invalid color in PaintUniformColor, clipping to [0, 1]\n",
      "[Open3D WARNING] invalid color in PaintUniformColor, clipping to [0, 1]\n",
      "[Open3D WARNING] invalid color in PaintUniformColor, clipping to [0, 1]\n",
      "[Open3D WARNING] invalid color in PaintUniformColor, clipping to [0, 1]\n",
      "[Open3D WARNING] invalid color in PaintUniformColor, clipping to [0, 1]\n",
      "[Open3D WARNING] invalid color in PaintUniformColor, clipping to [0, 1]\n",
      "[Open3D WARNING] invalid color in PaintUniformColor, clipping to [0, 1]\n",
      "[Open3D WARNING] invalid color in PaintUniformColor, clipping to [0, 1]\n",
      "[Open3D WARNING] invalid color in PaintUniformColor, clipping to [0, 1]\n",
      "[Open3D WARNING] invalid color in PaintUniformColor, clipping to [0, 1]\n",
      "[Open3D WARNING] The number of points is 0 when creating axis-aligned bounding box.\n"
     ]
    }
   ],
   "source": [
    "color = [\n",
    "    [255, 0, 0],   # Red\n",
    "    [0, 255, 0],   # Green\n",
    "    [0, 0, 255],   # Blue\n",
    "    [255, 255, 0], # Yellow\n",
    "    [255, 0, 255], # Magenta\n",
    "    [0, 255, 255], # Cyan\n",
    "    [128, 0, 0],   # Maroon\n",
    "    [0, 128, 0],   # Green (dark)\n",
    "    [0, 0, 128],   # Navy\n",
    "    [128, 128, 0],  # Olive\n",
    "    [128, 0, 128],  # Purple\n",
    "    [0, 128, 128],  # Teal\n",
    "    [128, 128, 128],# Gray\n",
    "    [255, 165, 0],  # Orange\n",
    "    [255, 192, 203],# Pink\n",
    "    [0, 0, 0],      # Black\n",
    "    [255, 255, 255],# White\n",
    "    [128, 0, 0],    # Maroon (dark)\n",
    "    [0, 128, 0],    # Green (medium)\n",
    "    [0, 0, 128]  \n",
    "]\n",
    "\n",
    "outlier_cloud_sph = []\n",
    "\n",
    "for i in range(len(cluster_sizes)):\n",
    "    # temp_p = np.asarray(pcd.points)[kmeans.labels_ == i]\n",
    "    temp_p = np.where(labels == i)\n",
    "    # print(temp_p[0])\n",
    "    temp_sphere = cl.select_by_index(temp_p[0])\n",
    "    temp_sphere.paint_uniform_color(color[i])\n",
    "    outlier_cloud_sph.append(temp_sphere)\n",
    "\n",
    "# visualizer(filtered_point_cloud)\n",
    "\n",
    "geometries_to_visualize = [outlier_cloud_sph[i] for i in range(len(cluster_sizes))]  # Adjust the range as needed\n",
    "\n",
    "o3d.visualization.draw_geometries(geometries_to_visualize,\n",
    "                                    zoom=0.5,\n",
    "                                    front=[1, 0, 0],\n",
    "                                    lookat=[0, 0, 0],\n",
    "                                    up=[0, 0, 1])"
   ]
  },
  {
   "cell_type": "code",
   "execution_count": 168,
   "metadata": {},
   "outputs": [
    {
     "name": "stdout",
     "output_type": "stream",
     "text": [
      "[Open3D WARNING] invalid color in PaintUniformColor, clipping to [0, 1]\n",
      "[Open3D WARNING] invalid color in PaintUniformColor, clipping to [0, 1]\n",
      "[Open3D WARNING] invalid color in PaintUniformColor, clipping to [0, 1]\n",
      "[Open3D WARNING] invalid color in PaintUniformColor, clipping to [0, 1]\n",
      "[Open3D WARNING] invalid color in PaintUniformColor, clipping to [0, 1]\n",
      "[Open3D WARNING] GLFW Error: WGL: Failed to make context current: The handle is invalid. \n"
     ]
    }
   ],
   "source": [
    "from sklearn.cluster import KMeans\n",
    "\n",
    "# filtered_point_cloud = o3d.geometry.PointCloud()\n",
    "# def filter_red(points, colors):\n",
    "# Convert RGB colors to feature space suitable for clustering\n",
    "features = np.array(filtered_point_cloud.points)  # Use RGB directly as features\n",
    "\n",
    "# Apply K-means clustering\n",
    "kmeans = KMeans(n_clusters=5, random_state=0).fit(features)\n",
    "\n",
    "# Identify cluster representing red points\n",
    "# kmeans.cluster_centers_ -> gives the cenetrs of the clusters so i.e of the colors\n",
    "red_cluster_index = np.argmin(np.mean(kmeans.cluster_centers_, axis=1))\n",
    "\n",
    "# Filter points based on cluster membership\n",
    "# red_points = np.asarray(pcd.points)[kmeans.labels_ == red_cluster_index]\n",
    "# red_colors = np.asarray(pcd.colors)[kmeans.labels_ == red_cluster_index]\n",
    "\n",
    "# return red_points, red_colors\n",
    "\n",
    "# filtered_point_cloud.points = o3d.utility.Vector3dVector(red_points)\n",
    "# filtered_point_cloud.colors = o3d.utility.Vector3dVector(red_colors)\n",
    "\n",
    "color = [\n",
    "    [255, 0, 0],   # Red\n",
    "    [0, 255, 0],   # Green\n",
    "    [0, 0, 255],   # Blue\n",
    "    [255, 255, 0], # Yellow\n",
    "    [255, 0, 255], # Magenta\n",
    "    [0, 255, 255], # Cyan\n",
    "    [128, 0, 0],   # Maroon\n",
    "    [0, 128, 0],   # Green (dark)\n",
    "    [0, 0, 128],   # Navy\n",
    "    [128, 128, 0],  # Olive\n",
    "    [128, 0, 128],  # Purple\n",
    "    [0, 128, 128],  # Teal\n",
    "    [128, 128, 128],# Gray\n",
    "    [255, 165, 0],  # Orange\n",
    "    [255, 192, 203],# Pink\n",
    "    [0, 0, 0],      # Black\n",
    "    [255, 255, 255],# White\n",
    "    [128, 0, 0],    # Maroon (dark)\n",
    "    [0, 128, 0],    # Green (medium)\n",
    "    [0, 0, 128]  \n",
    "]\n",
    "\n",
    "outlier_cloud_sph = []\n",
    "\n",
    "for i in range(len(kmeans.cluster_centers_)):\n",
    "    # temp_p = np.asarray(pcd.points)[kmeans.labels_ == i]\n",
    "    temp_p = np.where(kmeans.labels_ == i)\n",
    "    # print(temp_p[0])\n",
    "    temp_sphere = pcd.select_by_index(temp_p[0])\n",
    "    temp_sphere.paint_uniform_color(color[i])\n",
    "    outlier_cloud_sph.append(temp_sphere)\n",
    "\n",
    "# visualizer(filtered_point_cloud)\n",
    "\n",
    "geometries_to_visualize = [outlier_cloud_sph[i] for i in range(len(kmeans.cluster_centers_))]  # Adjust the range as needed\n",
    "\n",
    "o3d.visualization.draw_geometries(geometries_to_visualize,\n",
    "                                    zoom=0.5,\n",
    "                                    front=[1, 0, 0],\n",
    "                                    lookat=[0, 0, 0],\n",
    "                                    up=[0, 0, 1])\n",
    "\n"
   ]
  },
  {
   "cell_type": "code",
   "execution_count": 39,
   "metadata": {},
   "outputs": [
    {
     "name": "stdout",
     "output_type": "stream",
     "text": [
      "[[0.11900472 0.15205582 0.08048408]\n",
      " [0.48148465 0.61985623 0.41657004]\n",
      " [0.29789122 0.34944458 0.21945515]\n",
      " [0.68862662 0.8572229  0.67027523]\n",
      " [0.35766358 0.55965098 0.10678572]]\n",
      "[0.11718154 0.50597031 0.28893032 0.73870825 0.34136676]\n"
     ]
    }
   ],
   "source": [
    "print(kmeans.cluster_centers_)\n",
    "print(np.mean(kmeans.cluster_centers_, axis=1))"
   ]
  },
  {
   "cell_type": "code",
   "execution_count": 41,
   "metadata": {},
   "outputs": [],
   "source": [
    "new_points = []\n",
    "new_colors = []\n",
    "new_colors_RGB_u = []\n",
    "\n",
    "for index, new_color in enumerate(all_hsv_colors):\n",
    "    new_point = pcd.points[index]\n",
    "    new_color_RGB = all_rgb_colors[index]\n",
    "    # if hsv_filter(new_color):\n",
    "    #     new_colors_RGB_u.append(new_color_RGB)\n",
    "    #     new_points.append(new_point)\n",
    "    #     new_colors.append(new_color)\n",
    "        # print(new_color_RGB)\n",
    "    if hsv_filter_red(new_color):\n",
    "        # break\n",
    "        new_colors_RGB_u.append(new_color_RGB)\n",
    "        new_points.append(new_point)\n",
    "        new_colors.append(new_color)\n",
    "\n",
    "new_colors_RGB_u = np.asarray(new_colors_RGB_u)\n",
    "new_colors = np.asarray(new_colors)\n",
    "new_points = np.asarray(new_points)\n",
    "\n"
   ]
  },
  {
   "cell_type": "code",
   "execution_count": 61,
   "metadata": {},
   "outputs": [
    {
     "name": "stdout",
     "output_type": "stream",
     "text": [
      "[Open3D WARNING] [ViewControl] SetViewPoint() failed because window height and width are not set.\n"
     ]
    }
   ],
   "source": [
    "filtered_point_cloud = o3d.geometry.PointCloud()\n",
    "filtered_point_cloud.points = o3d.utility.Vector3dVector(new_points)\n",
    "filtered_point_cloud.colors = o3d.utility.Vector3dVector(new_colors_RGB_u)\n",
    "visualizer(filtered_point_cloud)"
   ]
  },
  {
   "cell_type": "code",
   "execution_count": 202,
   "metadata": {},
   "outputs": [],
   "source": [
    "# radii = [0.005, 0.01]\n",
    "# outlier_cloud_sphere.estimate_normals()\n",
    "# rec_mesh = o3d.geometry.TriangleMesh.create_from_point_cloud_ball_pivoting(\n",
    "#     outlier_cloud_sphere, o3d.utility.DoubleVector(radii))\n",
    "\n",
    "# visualizer(rec_mesh)\n",
    "\n",
    "# # Can make much better meshes\n"
   ]
  },
  {
   "cell_type": "code",
   "execution_count": 211,
   "metadata": {},
   "outputs": [],
   "source": [
    "inlier_cloud_point.estimate_normals()\n"
   ]
  },
  {
   "cell_type": "code",
   "execution_count": 212,
   "metadata": {},
   "outputs": [
    {
     "name": "stdout",
     "output_type": "stream",
     "text": [
      "[Open3D DEBUG] Input Points / Samples: 100723 / 100718\n",
      "[Open3D DEBUG] #   Got kernel density: 2.064 (s), 4297.86 (MB) / 19821.9 (MB) / 19843 (MB)\n",
      "[Open3D DEBUG] #     Got normal field: 0.483 (s), 4280.66 (MB) / 19821.9 (MB) / 19843 (MB)\n",
      "[Open3D DEBUG] Point weight / Estimated Area: 8.197693e-06 / 8.256962e-01\n",
      "[Open3D DEBUG] #       Finalized tree: 2.78 (s), 4868.52 (MB) / 19821.9 (MB) / 19843 (MB)\n",
      "[Open3D DEBUG] #  Set FEM constraints: 32.9 (s), 4310.96 (MB) / 19821.9 (MB) / 19843 (MB)\n",
      "[Open3D DEBUG] #Set point constraints: 0.764 (s), 4305.55 (MB) / 19821.9 (MB) / 19843 (MB)\n",
      "[Open3D DEBUG] Leaf Nodes / Active Nodes / Ghost Nodes: 20237785 / 1433592 / 21695305\n",
      "[Open3D DEBUG] Memory Usage: 4305.551 MB\n",
      "[Open3D DEBUG] # Linear system solved: 27.892 (s), 4368.53 (MB) / 19821.9 (MB) / 19843 (MB)\n",
      "[Open3D DEBUG] Got average: 0.807000 (s), 4329.9 (MB) / 19821.9 (MB) / 19843 (MB)\n",
      "[Open3D DEBUG] Iso-Value: 4.999772e-01 = 5.035921e+04 / 1.007230e+05\n",
      "[Open3D DEBUG] #          Total Solve:     108.7 (s),   19821.9 (MB)\n",
      "TriangleMesh with 370908 points and 743864 triangles.\n",
      "[Open3D WARNING] GLFW Error: WGL: Failed to make context current: The requested transformation operation is not supported. \n",
      "[Open3D WARNING] GLFW Error: WGL: Failed to make context current: The handle is invalid. \n",
      "[Open3D WARNING] GLFW Error: WGL: Failed to make context current: The handle is invalid. \n",
      "[Open3D WARNING] GLFW Error: WGL: Failed to make context current: The handle is invalid. \n",
      "[Open3D WARNING] GLFW Error: WGL: Failed to make context current: The requested transformation operation is not supported. \n"
     ]
    }
   ],
   "source": [
    "with o3d.utility.VerbosityContextManager(\n",
    "        o3d.utility.VerbosityLevel.Debug) as cm:\n",
    "    mesh, densities = o3d.geometry.TriangleMesh.create_from_point_cloud_poisson(\n",
    "        inlier_cloud_point, depth=15)\n",
    "print(mesh)\n",
    "o3d.visualization.draw_geometries([mesh],\n",
    "                                  zoom=0.664,\n",
    "                                  front=[-0.4761, -0.4698, -0.7434],\n",
    "                                  lookat=[1.8900, 3.2596, 0.9284],\n",
    "                                  up=[0.2304, -0.8825, 0.4101])"
   ]
  },
  {
   "cell_type": "code",
   "execution_count": 213,
   "metadata": {},
   "outputs": [
    {
     "name": "stdout",
     "output_type": "stream",
     "text": [
      "[Open3D WARNING] GLFW Error: WGL: Failed to make context current: The requested transformation operation is not supported. \n",
      "[Open3D WARNING] GLFW Error: WGL: Failed to make context current: The handle is invalid. \n",
      "[Open3D WARNING] GLFW Error: WGL: Failed to make context current: The handle is invalid. \n",
      "[Open3D WARNING] GLFW Error: WGL: Failed to make context current: The requested transformation operation is not supported. \n",
      "[Open3D WARNING] GLFW Error: WGL: Failed to make context current: The requested transformation operation is not supported. \n"
     ]
    }
   ],
   "source": [
    "o3d.visualization.draw_geometries([mesh],\n",
    "                                  zoom=0.664,\n",
    "                                  front=[-0.4761, -0.4698, -0.7434],\n",
    "                                  lookat=[1.8900, 3.2596, 0.9284],\n",
    "                                  up=[0.2304, -0.8825, 0.4101])"
   ]
  },
  {
   "cell_type": "code",
   "execution_count": 128,
   "metadata": {},
   "outputs": [],
   "source": [
    "# Visualize the first point cloud\n",
    "o3d.visualization.draw_geometries([filtered_point_cloud], window_name='Filtered Point Cloud')\n",
    "\n",
    "# o3d.io.write_point_cloud(\"saved_point_cloud.ply\", filtered_point_cloud)\n",
    "# o3d.io.write_point_cloud(\"outlier_cloud_sphere.ply\", outlier_cloud_sphere)\n",
    "\n",
    "\n",
    "# Visualize the second point cloud\n",
    "# o3d.visualization.draw_geometries([outlier_cloud_sphere], window_name='Outlier Cloud Sphere')"
   ]
  },
  {
   "cell_type": "code",
   "execution_count": null,
   "metadata": {},
   "outputs": [],
   "source": []
  }
 ],
 "metadata": {
  "kernelspec": {
   "display_name": "farmbot",
   "language": "python",
   "name": "python3"
  },
  "language_info": {
   "codemirror_mode": {
    "name": "ipython",
    "version": 3
   },
   "file_extension": ".py",
   "mimetype": "text/x-python",
   "name": "python",
   "nbconvert_exporter": "python",
   "pygments_lexer": "ipython3",
   "version": "3.11.9"
  }
 },
 "nbformat": 4,
 "nbformat_minor": 2
}
