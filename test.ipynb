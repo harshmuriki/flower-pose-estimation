{
 "cells": [
  {
   "cell_type": "code",
   "execution_count": 10,
   "metadata": {},
   "outputs": [],
   "source": [
    "from roboflow import Roboflow\n",
    "import open3d as o3d\n",
    "import numpy as np\n",
    "import math\n",
    "import pyransac3d as pyrsc"
   ]
  },
  {
   "cell_type": "code",
   "execution_count": 11,
   "metadata": {},
   "outputs": [],
   "source": [
    "show_pcl = True"
   ]
  },
  {
   "cell_type": "code",
   "execution_count": 12,
   "metadata": {},
   "outputs": [],
   "source": [
    "def visualizer(cloud):\n",
    "\n",
    "    if type(cloud) != list:\n",
    "        cloud = [cloud]\n",
    "\n",
    "    if show_pcl:\n",
    "        # point cloud\n",
    "        center_of_mass = np.mean(np.asarray(cloud[0].points), axis=0)\n",
    "    \n",
    "        o3d.visualization.draw_geometries(cloud,\n",
    "                                    zoom=0.57899999999999985,\n",
    "                                    front=  [ 0.053781796277127751, 0.99511863815317547, 0.082743062484869914 ],\n",
    "                                    up =  [ -0.99452345262671604, 0.045944145215534776, 0.093873519673282182 ],\n",
    "                                    lookat=[ 0.14950467828195535, -0.21448131248991498, 0.63221199653621662 ])\n",
    "    \n",
    "    else:\n",
    "        pass"
   ]
  },
  {
   "cell_type": "code",
   "execution_count": 51,
   "metadata": {},
   "outputs": [],
   "source": [
    "# pcd = o3d.io.read_point_cloud(\"3dmodels/Data/Data 12.ply\")\n",
    "pcd1 = o3d.io.read_point_cloud(\"3dmodels/Data/Data 11 Photogrammetry.ply\")\n",
    "\n",
    "visualizer([pcd1])"
   ]
  },
  {
   "cell_type": "code",
   "execution_count": 6,
   "metadata": {},
   "outputs": [],
   "source": [
    "pcd = pcd.uniform_down_sample(75)"
   ]
  },
  {
   "cell_type": "code",
   "execution_count": 6,
   "metadata": {},
   "outputs": [
    {
     "name": "stdout",
     "output_type": "stream",
     "text": [
      "[Open3D WARNING] GLFW Error: WGL: Failed to make context current: The requested transformation operation is not supported. \n",
      "[Open3D WARNING] [ViewControl] SetViewPoint() failed because window height and width are not set.\n",
      "[Open3D WARNING] GLFW Error: WGL: Failed to make context current: The requested transformation operation is not supported. \n",
      "[Open3D WARNING] GLFW Error: WGL: Failed to make context current: The handle is invalid. \n",
      "[Open3D WARNING] [ViewControl] SetViewPoint() failed because window height and width are not set.\n",
      "[Open3D WARNING] GLFW Error: WGL: Failed to make context current: The handle is invalid. \n",
      "[Open3D WARNING] [ViewControl] SetViewPoint() failed because window height and width are not set.\n",
      "[Open3D WARNING] GLFW Error: WGL: Failed to make context current: The handle is invalid. \n",
      "[Open3D WARNING] GLFW Error: WGL: Failed to make context current: The requested transformation operation is not supported. \n",
      "[Open3D WARNING] GLFW Error: WGL: Failed to make context current: The handle is invalid. \n",
      "[Open3D WARNING] GLFW Error: WGL: Failed to make context current: The requested transformation operation is not supported. \n",
      "[Open3D WARNING] GLFW Error: WGL: Failed to make context current: The handle is invalid. \n"
     ]
    }
   ],
   "source": [
    "mesh_frame = o3d.geometry.TriangleMesh.create_coordinate_frame(size=1, origin=pcd.get_center())\n",
    "\n",
    "visualizer([pcd, mesh_frame])"
   ]
  },
  {
   "cell_type": "code",
   "execution_count": 1,
   "metadata": {},
   "outputs": [
    {
     "ename": "UnidentifiedImageError",
     "evalue": "cannot identify image file 'C:\\\\Users\\\\vmuriki3\\\\Documents\\\\test_code\\\\images_2\\\\1720793918611481.heif'",
     "output_type": "error",
     "traceback": [
      "\u001b[1;31m---------------------------------------------------------------------------\u001b[0m",
      "\u001b[1;31mUnidentifiedImageError\u001b[0m                    Traceback (most recent call last)",
      "Cell \u001b[1;32mIn[1], line 9\u001b[0m\n\u001b[0;32m      7\u001b[0m \u001b[38;5;66;03m# Convert each file to JPEG\u001b[39;00m\n\u001b[0;32m      8\u001b[0m \u001b[38;5;28;01mfor\u001b[39;00m filename \u001b[38;5;129;01min\u001b[39;00m files:\n\u001b[1;32m----> 9\u001b[0m     image \u001b[38;5;241m=\u001b[39m \u001b[43mImage\u001b[49m\u001b[38;5;241;43m.\u001b[39;49m\u001b[43mopen\u001b[49m\u001b[43m(\u001b[49m\u001b[38;5;124;43m\"\u001b[39;49m\u001b[38;5;124;43mimages_2/1720793918611481.heif\u001b[39;49m\u001b[38;5;124;43m\"\u001b[39;49m\u001b[43m)\u001b[49m\n\u001b[0;32m     10\u001b[0m     image\u001b[38;5;241m.\u001b[39msave(os\u001b[38;5;241m.\u001b[39mpath\u001b[38;5;241m.\u001b[39mjoin(directory, os\u001b[38;5;241m.\u001b[39mpath\u001b[38;5;241m.\u001b[39msplitext(filename)[\u001b[38;5;241m0\u001b[39m] \u001b[38;5;241m+\u001b[39m \u001b[38;5;124m'\u001b[39m\u001b[38;5;124m.png\u001b[39m\u001b[38;5;124m'\u001b[39m))\n",
      "File \u001b[1;32mc:\\Users\\vmuriki3\\AppData\\Local\\miniconda3\\envs\\farmbot\\Lib\\site-packages\\PIL\\Image.py:3498\u001b[0m, in \u001b[0;36mopen\u001b[1;34m(fp, mode, formats)\u001b[0m\n\u001b[0;32m   3496\u001b[0m     warnings\u001b[38;5;241m.\u001b[39mwarn(message)\n\u001b[0;32m   3497\u001b[0m msg \u001b[38;5;241m=\u001b[39m \u001b[38;5;124m\"\u001b[39m\u001b[38;5;124mcannot identify image file \u001b[39m\u001b[38;5;132;01m%r\u001b[39;00m\u001b[38;5;124m\"\u001b[39m \u001b[38;5;241m%\u001b[39m (filename \u001b[38;5;28;01mif\u001b[39;00m filename \u001b[38;5;28;01melse\u001b[39;00m fp)\n\u001b[1;32m-> 3498\u001b[0m \u001b[38;5;28;01mraise\u001b[39;00m UnidentifiedImageError(msg)\n",
      "\u001b[1;31mUnidentifiedImageError\u001b[0m: cannot identify image file 'C:\\\\Users\\\\vmuriki3\\\\Documents\\\\test_code\\\\images_2\\\\1720793918611481.heif'"
     ]
    }
   ],
   "source": [
    "from PIL import Image\n",
    "import os\n",
    "\n",
    "# Get list of HEIF and HEIC files in directory\n",
    "directory = './images_2'\n",
    "files = [f for f in os.listdir(directory) if f.endswith('.heic') or f.endswith('.heif')]\n",
    "# Convert each file to JPEG\n",
    "for filename in files:\n",
    "    image = Image.open(\"images_2/1720793918611481.heif\")\n",
    "    image.save(os.path.join(directory, os.path.splitext(filename)[0] + '.png'))"
   ]
  },
  {
   "cell_type": "code",
   "execution_count": 8,
   "metadata": {},
   "outputs": [
    {
     "name": "stdout",
     "output_type": "stream",
     "text": [
      "1720794058522447.heif\n",
      "1720794059393643.heif\n",
      "1720794060119187.heif\n",
      "1720794060859396.heif\n",
      "1720794061608688.heif\n",
      "1720794062680007.heif\n",
      "1720794063388191.heif\n",
      "1720794064088356.heif\n",
      "1720794064786588.heif\n",
      "1720794065494503.heif\n"
     ]
    }
   ],
   "source": [
    "import imageio\n",
    "import os\n",
    "\n",
    "directory = './images_2'\n",
    "directory1 = './output'\n",
    "files = [f for f in os.listdir(directory) if f.endswith('.heic') or f.endswith('.heif')]\n",
    "# Convert each file to PNG\n",
    "for filename in files:\n",
    "    image = imageio.imread(os.path.join(directory, filename))\n",
    "    imageio.imwrite(os.path.join(directory1, os.path.splitext(filename)[0] + '.png'), image)\n"
   ]
  },
  {
   "cell_type": "code",
   "execution_count": 9,
   "metadata": {},
   "outputs": [],
   "source": [
    "\n",
    "\n",
    "def remind_me():\n",
    "    # Create a Tkinter root window\n",
    "    root = tk.Tk()\n",
    "    root.withdraw()  # Hide the main window\n",
    "\n",
    "    # Show a message box with a reminder\n",
    "    messagebox.showinfo(\"Reminder\", \"Don't forget to do your task!\")\n",
    "\n",
    "    # Close the root window\n",
    "    root.destroy()\n",
    "\n",
    "# Example usage:\n",
    "remind_me()\n"
   ]
  },
  {
   "cell_type": "code",
   "execution_count": null,
   "metadata": {},
   "outputs": [],
   "source": [
    "import numpy as np\n",
    "\n",
    "# Assuming check_grid and img are NumPy arrays and col is defined\n",
    "\n",
    "# Ensure check_grid is boolean for proper logical operations\n",
    "check_grid = check_grid.astype(bool)\n",
    "\n",
    "# Calculate ranges\n",
    "dx_range = np.arange(-resolution, resolution)\n",
    "dz_range = np.arange(-resolution, resolution)\n",
    "\n",
    "# Calculate new coordinates\n",
    "x_coords, z_coords = np.meshgrid(x_c + dx_range, z_c + dz_range, indexing='ij')\n",
    "\n",
    "# Flatten coordinates for easier masking\n",
    "x_coords_flat = x_coords.flatten()\n",
    "z_coords_flat = z_coords.flatten()\n",
    "\n",
    "# Create valid masks for coordinates\n",
    "valid_x = (0 <= x_coords_flat) & (x_coords_flat < shape1)\n",
    "valid_z = (0 <= z_coords_flat) & (z_coords_flat < shape2)\n",
    "\n",
    "# Combine valid masks\n",
    "valid_indices = valid_x & valid_z\n",
    "\n",
    "# Check grid values at valid coordinates\n",
    "check_grid_values = check_grid[x_coords_flat[valid_indices], z_coords_flat[valid_indices]]\n",
    "update_mask = ~check_grid_values  # Invert boolean values\n",
    "\n",
    "# Apply updates\n",
    "update_indices = valid_indices[~check_grid_values]\n",
    "check_grid[x_coords_flat[update_indices], z_coords_flat[update_indices]] = 1\n",
    "img[x_coords_flat[update_indices], z_coords_flat[update_indices]] = col\n"
   ]
  },
  {
   "cell_type": "code",
   "execution_count": null,
   "metadata": {},
   "outputs": [],
   "source": [
    "# for dx in range(-resolution, resolution, 1):\n",
    "#     for dz in range(-resolution, resolution, 1):\n",
    "\n",
    "#         if 0 <= x_c + dx < shape1 and 0 <= z_c + dz < shape2: #If it is in bounds with the image shapes\n",
    "#             if not check_grid[x_c + dx, z_c + dz]:\n",
    "#                 check_grid[x_c + dx, z_c + dz] = 1\n",
    "#                 img[x_c + dx, z_c + dz] = col"
   ]
  },
  {
   "cell_type": "code",
   "execution_count": 248,
   "metadata": {},
   "outputs": [
    {
     "name": "stdout",
     "output_type": "stream",
     "text": [
      "[3 4 5 6 7] [3 4 5 6 7]\n"
     ]
    }
   ],
   "source": [
    "resolution = 2\n",
    "x, y = 5, 5\n",
    "max_x, max_y = 10, 10\n",
    "dx_l = np.linspace(-resolution+x, resolution+x, 2*resolution+1, dtype=int)\n",
    "dy_l = np.linspace(-resolution+y, resolution+y, 2*resolution+1, dtype=int)\n",
    "print(dx_l, dy_l)"
   ]
  },
  {
   "cell_type": "code",
   "execution_count": 269,
   "metadata": {},
   "outputs": [
    {
     "data": {
      "text/plain": [
       "array([[0, 0, 0, 0, 0, 0, 0, 0, 0, 0],\n",
       "       [0, 0, 0, 0, 0, 0, 0, 0, 0, 0],\n",
       "       [0, 0, 0, 0, 0, 0, 0, 0, 0, 0],\n",
       "       [0, 0, 0, 0, 0, 0, 0, 0, 0, 0],\n",
       "       [0, 0, 0, 0, 0, 0, 0, 0, 0, 0],\n",
       "       [0, 0, 0, 0, 0, 1, 1, 0, 0, 0],\n",
       "       [0, 0, 0, 0, 0, 0, 0, 0, 0, 0],\n",
       "       [0, 0, 0, 0, 0, 0, 0, 0, 0, 0],\n",
       "       [0, 0, 0, 0, 0, 0, 0, 0, 0, 0],\n",
       "       [0, 0, 0, 0, 0, 0, 0, 0, 0, 0]])"
      ]
     },
     "execution_count": 269,
     "metadata": {},
     "output_type": "execute_result"
    }
   ],
   "source": [
    "check_grid = np.zeros((10, 10), dtype=int)\n",
    "check_grid\n",
    "\n",
    "check_grid[5, 5] = 1\n",
    "check_grid[5, 6] = 1\n",
    "check_grid"
   ]
  },
  {
   "cell_type": "code",
   "execution_count": 251,
   "metadata": {},
   "outputs": [
    {
     "data": {
      "text/plain": [
       "(array([[3, 4, 5, 6, 7],\n",
       "        [3, 4, 5, 6, 7],\n",
       "        [3, 4, 5, 6, 7],\n",
       "        [3, 4, 5, 6, 7],\n",
       "        [3, 4, 5, 6, 7]]),\n",
       " array([[3, 3, 3, 3, 3],\n",
       "        [4, 4, 4, 4, 4],\n",
       "        [5, 5, 5, 5, 5],\n",
       "        [6, 6, 6, 6, 6],\n",
       "        [7, 7, 7, 7, 7]]))"
      ]
     },
     "execution_count": 251,
     "metadata": {},
     "output_type": "execute_result"
    }
   ],
   "source": [
    "dx, dy = np.meshgrid(dx_l, dy_l)\n",
    "dx, dy"
   ]
  },
  {
   "cell_type": "code",
   "execution_count": 252,
   "metadata": {},
   "outputs": [
    {
     "data": {
      "text/plain": [
       "(array([[ True,  True,  True,  True,  True],\n",
       "        [ True,  True,  True,  True,  True],\n",
       "        [ True,  True,  True,  True,  True],\n",
       "        [ True,  True,  True,  True,  True],\n",
       "        [ True,  True,  True,  True,  True]]),\n",
       " array([[ True,  True,  True,  True,  True],\n",
       "        [ True,  True,  True,  True,  True],\n",
       "        [ True,  True,  True,  True,  True],\n",
       "        [ True,  True,  True,  True,  True],\n",
       "        [ True,  True,  True,  True,  True]]))"
      ]
     },
     "execution_count": 252,
     "metadata": {},
     "output_type": "execute_result"
    }
   ],
   "source": [
    "# dx_t = (dx >= 0) & (dx < max_x)\n",
    "# dy_t = (dy >= 0) & (dy < max_y)\n",
    "# dx_t, dy_t"
   ]
  },
  {
   "cell_type": "code",
   "execution_count": 212,
   "metadata": {},
   "outputs": [
    {
     "data": {
      "text/plain": [
       "array([3, 4], dtype=int64)"
      ]
     },
     "execution_count": 212,
     "metadata": {},
     "output_type": "execute_result"
    }
   ],
   "source": [
    "np.argwhere(dy_t)[::-1][0]"
   ]
  },
  {
   "cell_type": "code",
   "execution_count": 226,
   "metadata": {},
   "outputs": [
    {
     "data": {
      "text/plain": [
       "(0, 4, 0, 4)"
      ]
     },
     "execution_count": 226,
     "metadata": {},
     "output_type": "execute_result"
    }
   ],
   "source": [
    "# x_min = dx[np.argwhere(dx_t)[0][0], np.argwhere(dx_t)[0][1]]\n",
    "# x_max = dx[np.argwhere(dx_t)[::-1][0][0], np.argwhere(dx_t)[::-1][0][1]]\n",
    "\n",
    "# y_min = dy[np.argwhere(dy_t)[0][0], np.argwhere(dy_t)[0][1]]\n",
    "# y_max = dy[np.argwhere(dy_t)[::-1][0][0], np.argwhere(dy_t)[::-1][0][1]]\n",
    "\n",
    "# x_min, x_max, y_min, y_max"
   ]
  },
  {
   "cell_type": "code",
   "execution_count": 253,
   "metadata": {},
   "outputs": [
    {
     "data": {
      "text/plain": [
       "array([[0, 0, 0, 0, 0],\n",
       "       [0, 0, 0, 0, 0],\n",
       "       [0, 0, 1, 1, 0],\n",
       "       [0, 0, 0, 0, 0],\n",
       "       [0, 0, 0, 0, 0]])"
      ]
     },
     "execution_count": 253,
     "metadata": {},
     "output_type": "execute_result"
    }
   ],
   "source": [
    "temp_check_grid = check_grid[min(dx_l):max(dx_l)+1, min(dy_l):max(dy_l)+1]\n",
    "temp_check_grid"
   ]
  },
  {
   "cell_type": "code",
   "execution_count": 254,
   "metadata": {},
   "outputs": [
    {
     "data": {
      "text/plain": [
       "(array([[1, 1, 1, 1, 1],\n",
       "        [1, 1, 1, 1, 1],\n",
       "        [1, 1, 0, 0, 1],\n",
       "        [1, 1, 1, 1, 1],\n",
       "        [1, 1, 1, 1, 1]], dtype=int32),\n",
       " array([[1, 1, 1, 1, 1],\n",
       "        [1, 1, 1, 1, 1],\n",
       "        [1, 1, 0, 0, 1],\n",
       "        [1, 1, 1, 1, 1],\n",
       "        [1, 1, 1, 1, 1]], dtype=int32),\n",
       " array([[1, 1, 1, 1, 1],\n",
       "        [1, 1, 1, 1, 1],\n",
       "        [1, 1, 0, 0, 1],\n",
       "        [1, 1, 1, 1, 1],\n",
       "        [1, 1, 1, 1, 1]], dtype=int32))"
      ]
     },
     "execution_count": 254,
     "metadata": {},
     "output_type": "execute_result"
    }
   ],
   "source": [
    "dx1 = (dx >= 0) & (dx < max_x) & ~temp_check_grid\n",
    "dy1 = (dy >= 0) & (dy < max_y) & ~temp_check_grid\n",
    "dx_dy = dx1 & dy1\n",
    "dx1, dy1, dx_dy"
   ]
  },
  {
   "cell_type": "code",
   "execution_count": 270,
   "metadata": {},
   "outputs": [],
   "source": [
    "ones = np.argwhere(dx_dy)\n",
    "ones[:, 0] += 3\n",
    "ones[:, 1] += 3\n",
    "# ones"
   ]
  },
  {
   "cell_type": "code",
   "execution_count": 273,
   "metadata": {},
   "outputs": [
    {
     "data": {
      "text/plain": [
       "array([[3, 3],\n",
       "       [3, 4],\n",
       "       [3, 5],\n",
       "       [3, 6],\n",
       "       [3, 7],\n",
       "       [4, 3],\n",
       "       [4, 4],\n",
       "       [4, 5],\n",
       "       [4, 6],\n",
       "       [4, 7],\n",
       "       [5, 3],\n",
       "       [5, 4],\n",
       "       [5, 7],\n",
       "       [6, 3],\n",
       "       [6, 4],\n",
       "       [6, 5],\n",
       "       [6, 6],\n",
       "       [6, 7],\n",
       "       [7, 3],\n",
       "       [7, 4],\n",
       "       [7, 5],\n",
       "       [7, 6],\n",
       "       [7, 7]], dtype=int64)"
      ]
     },
     "execution_count": 273,
     "metadata": {},
     "output_type": "execute_result"
    }
   ],
   "source": [
    "ones"
   ]
  },
  {
   "cell_type": "code",
   "execution_count": 271,
   "metadata": {},
   "outputs": [
    {
     "data": {
      "text/plain": [
       "array([[0, 0, 0, 0, 0, 0, 0, 0, 0, 0],\n",
       "       [0, 0, 0, 0, 0, 0, 0, 0, 0, 0],\n",
       "       [0, 0, 0, 0, 0, 0, 0, 0, 0, 0],\n",
       "       [0, 0, 0, 0, 0, 0, 0, 0, 0, 0],\n",
       "       [0, 0, 0, 0, 0, 0, 0, 0, 0, 0],\n",
       "       [0, 0, 0, 0, 0, 1, 1, 0, 0, 0],\n",
       "       [0, 0, 0, 0, 0, 0, 0, 0, 0, 0],\n",
       "       [0, 0, 0, 0, 0, 0, 0, 0, 0, 0],\n",
       "       [0, 0, 0, 0, 0, 0, 0, 0, 0, 0],\n",
       "       [0, 0, 0, 0, 0, 0, 0, 0, 0, 0]])"
      ]
     },
     "execution_count": 271,
     "metadata": {},
     "output_type": "execute_result"
    }
   ],
   "source": [
    "check_grid"
   ]
  },
  {
   "cell_type": "code",
   "execution_count": 272,
   "metadata": {},
   "outputs": [
    {
     "data": {
      "text/plain": [
       "array([[0, 0, 0, 0, 0, 0, 0, 0, 0, 0],\n",
       "       [0, 0, 0, 0, 0, 0, 0, 0, 0, 0],\n",
       "       [0, 0, 0, 0, 0, 0, 0, 0, 0, 0],\n",
       "       [0, 0, 0, 1, 1, 1, 1, 1, 0, 0],\n",
       "       [0, 0, 0, 1, 1, 1, 1, 1, 0, 0],\n",
       "       [0, 0, 0, 1, 1, 1, 1, 1, 0, 0],\n",
       "       [0, 0, 0, 1, 1, 1, 1, 1, 0, 0],\n",
       "       [0, 0, 0, 1, 1, 1, 1, 1, 0, 0],\n",
       "       [0, 0, 0, 0, 0, 0, 0, 0, 0, 0],\n",
       "       [0, 0, 0, 0, 0, 0, 0, 0, 0, 0]])"
      ]
     },
     "execution_count": 272,
     "metadata": {},
     "output_type": "execute_result"
    }
   ],
   "source": [
    "check_grid[ones[:, 0], ones[:, 1]] = 1\n",
    "check_grid"
   ]
  },
  {
   "cell_type": "code",
   "execution_count": 119,
   "metadata": {},
   "outputs": [
    {
     "data": {
      "text/plain": [
       "array([[[False,  True],\n",
       "        [False,  True],\n",
       "        [ True,  True],\n",
       "        [ True,  True],\n",
       "        [ True,  True]],\n",
       "\n",
       "       [[False,  True],\n",
       "        [False,  True],\n",
       "        [ True,  True],\n",
       "        [ True,  True],\n",
       "        [ True,  True]],\n",
       "\n",
       "       [[False,  True],\n",
       "        [False,  True],\n",
       "        [ True,  True],\n",
       "        [ True,  True],\n",
       "        [ True,  True]],\n",
       "\n",
       "       [[False,  True],\n",
       "        [False,  True],\n",
       "        [ True,  True],\n",
       "        [ True,  True],\n",
       "        [ True,  True]],\n",
       "\n",
       "       [[False,  True],\n",
       "        [False,  True],\n",
       "        [ True,  True],\n",
       "        [ True,  True],\n",
       "        [ True,  True]]])"
      ]
     },
     "execution_count": 119,
     "metadata": {},
     "output_type": "execute_result"
    }
   ],
   "source": [
    "result1 = (result >= 0) and (result)\n",
    "result1"
   ]
  },
  {
   "cell_type": "code",
   "execution_count": 78,
   "metadata": {},
   "outputs": [],
   "source": [
    "# X -> Row and Y -> Column"
   ]
  },
  {
   "cell_type": "code",
   "execution_count": 82,
   "metadata": {},
   "outputs": [
    {
     "data": {
      "text/plain": [
       "(array([[0, 1, 2, 3, 4, 5, 6],\n",
       "        [0, 1, 2, 3, 4, 5, 6],\n",
       "        [0, 1, 2, 3, 4, 5, 6],\n",
       "        [0, 1, 2, 3, 4, 5, 6],\n",
       "        [0, 1, 2, 3, 4, 5, 6],\n",
       "        [0, 1, 2, 3, 4, 5, 6],\n",
       "        [0, 1, 2, 3, 4, 5, 6]]),\n",
       " array([[-1, -1, -1, -1, -1, -1, -1],\n",
       "        [ 0,  0,  0,  0,  0,  0,  0],\n",
       "        [ 1,  1,  1,  1,  1,  1,  1],\n",
       "        [ 2,  2,  2,  2,  2,  2,  2],\n",
       "        [ 3,  3,  3,  3,  3,  3,  3],\n",
       "        [ 4,  4,  4,  4,  4,  4,  4],\n",
       "        [ 5,  5,  5,  5,  5,  5,  5]]))"
      ]
     },
     "execution_count": 82,
     "metadata": {},
     "output_type": "execute_result"
    }
   ],
   "source": [
    "grid[0] + y, grid[1] + x"
   ]
  },
  {
   "cell_type": "code",
   "execution_count": null,
   "metadata": {},
   "outputs": [],
   "source": []
  }
 ],
 "metadata": {
  "kernelspec": {
   "display_name": "farmbot",
   "language": "python",
   "name": "python3"
  },
  "language_info": {
   "codemirror_mode": {
    "name": "ipython",
    "version": 3
   },
   "file_extension": ".py",
   "mimetype": "text/x-python",
   "name": "python",
   "nbconvert_exporter": "python",
   "pygments_lexer": "ipython3",
   "version": "3.11.9"
  }
 },
 "nbformat": 4,
 "nbformat_minor": 2
}
