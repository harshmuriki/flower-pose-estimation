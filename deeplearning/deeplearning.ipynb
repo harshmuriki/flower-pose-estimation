{
 "cells": [
  {
   "cell_type": "code",
   "execution_count": 5,
   "metadata": {},
   "outputs": [],
   "source": [
    "from roboflow import Roboflow\n",
    "import open3d as o3d\n",
    "import numpy as np\n",
    "import math\n",
    "import pyransac3d as pyrsc\n",
    "import cv2\n",
    "from PIL import Image"
   ]
  },
  {
   "cell_type": "code",
   "execution_count": 6,
   "metadata": {},
   "outputs": [],
   "source": [
    "show_pcl = True"
   ]
  },
  {
   "cell_type": "code",
   "execution_count": 7,
   "metadata": {},
   "outputs": [],
   "source": [
    "def visualizer(cloud):\n",
    "\n",
    "    if type(cloud) != list:\n",
    "        cloud = [cloud]\n",
    "\n",
    "    if show_pcl:\n",
    "        # point cloud\n",
    "        center_of_mass = np.mean(np.asarray(cloud[0].points), axis=0)\n",
    "    \n",
    "        o3d.visualization.draw_geometries(cloud,\n",
    "                                    zoom=0.57899999999999985,\n",
    "                                    front=  [ 0.053781796277127751, 0.99511863815317547, 0.082743062484869914 ],\n",
    "                                    up =  [ -0.99452345262671604, 0.045944145215534776, 0.093873519673282182 ],\n",
    "                                    lookat=[ 0.14950467828195535, -0.21448131248991498, 0.63221199653621662 ])\n",
    "    \n",
    "    else:\n",
    "        pass"
   ]
  },
  {
   "cell_type": "code",
   "execution_count": 10,
   "metadata": {},
   "outputs": [],
   "source": [
    "pcd = o3d.io.read_point_cloud(\"../3dmodels/Bell_Pepper_6_26.ply\")\n",
    "\n",
    "visualizer(pcd)"
   ]
  },
  {
   "cell_type": "code",
   "execution_count": 44,
   "metadata": {},
   "outputs": [
    {
     "name": "stdout",
     "output_type": "stream",
     "text": [
      "[Open3D INFO] No point has been picked.\n",
      "[Open3D INFO] No point has been picked.\n",
      "[Open3D INFO] No point has been picked.\n",
      "[Open3D INFO] No point has been picked.\n",
      "[Open3D INFO] No point has been picked.\n",
      "[Open3D INFO] No point has been picked.\n",
      "[Open3D WARNING] GLFW Error: WGL: Failed to make context current: The requested transformation operation is not supported. \n",
      "[Open3D INFO] No point has been picked.\n",
      "[Open3D INFO] No point has been picked.\n",
      "[Open3D INFO] No point has been picked.\n",
      "[Open3D INFO] No point has been picked.\n",
      "[Open3D INFO] Picked point #0 (0.83, -0.14, 1.8) to add in queue.\n",
      "[Open3D INFO] Picked point #0 (0.83, -0.14, 1.8) to add in queue.\n"
     ]
    }
   ],
   "source": [
    "o3d.visualization.draw_geometries_with_editing([pcd])"
   ]
  },
  {
   "cell_type": "code",
   "execution_count": 41,
   "metadata": {},
   "outputs": [
    {
     "name": "stdout",
     "output_type": "stream",
     "text": [
      "[Open3D WARNING] invalid color in PaintUniformColor, clipping to [0, 1]\n"
     ]
    }
   ],
   "source": [
    "point_cloud = o3d.geometry.PointCloud()\n",
    "point_cloud.points = o3d.utility.Vector3dVector([[0.98351237, 0.99766193, 0.04010914]])\n",
    "point_cloud.paint_uniform_color((255, 0, 0))\n",
    "mesh_frame = o3d.geometry.TriangleMesh.create_coordinate_frame(size=1, origin=pcd_new.get_center())\n",
    "\n",
    "new_pcd_2 = point_cloud+pcd_new\n",
    "visualizer([new_pcd_2])"
   ]
  },
  {
   "cell_type": "code",
   "execution_count": 31,
   "metadata": {},
   "outputs": [
    {
     "name": "stdout",
     "output_type": "stream",
     "text": [
      "[Open3D WARNING] GLFW Error: WGL: Failed to make context current: The handle is invalid. \n"
     ]
    }
   ],
   "source": [
    "pcd_new = o3d.io.read_point_cloud(\"../3dmodels/Bell_Pepper_6_26.ply\")\n",
    "visualizer(pcd_new)"
   ]
  },
  {
   "cell_type": "code",
   "execution_count": 42,
   "metadata": {},
   "outputs": [
    {
     "data": {
      "text/plain": [
       "True"
      ]
     },
     "execution_count": 42,
     "metadata": {},
     "output_type": "execute_result"
    }
   ],
   "source": [
    "o3d.io.write_point_cloud(f\"new_test_pcd.ply\", new_pcd_2)\n"
   ]
  },
  {
   "cell_type": "code",
   "execution_count": 24,
   "metadata": {},
   "outputs": [
    {
     "data": {
      "text/plain": [
       "std::vector<Eigen::Vector3d> with 604420 elements.\n",
       "Use numpy.asarray() to access data."
      ]
     },
     "execution_count": 24,
     "metadata": {},
     "output_type": "execute_result"
    }
   ],
   "source": [
    "pcd.points"
   ]
  },
  {
   "cell_type": "code",
   "execution_count": 12,
   "metadata": {},
   "outputs": [],
   "source": [
    "import open3d as o3d\n",
    "import numpy as np\n",
    "\n",
    "# Load point cloud (replace this with your own point cloud loading code)\n",
    "\n",
    "# Define rotation angles for capturing different views\n",
    "angles = np.linspace(0, 360, 36, endpoint=False)  # 36 frames for 360-degree rotation\n",
    "\n",
    "# Create a renderer object\n",
    "vis = o3d.visualization.Visualizer()\n",
    "vis.create_window()\n",
    "\n",
    "# Add point cloud to the visualizer\n",
    "vis.add_geometry(pcd)\n",
    "\n",
    "# Capture frames\n",
    "images = []\n",
    "for angle in angles:\n",
    "    ctr = vis.get_view_control()\n",
    "    ctr.rotate(angle, 0.0)  # Rotate around the vertical axis\n",
    "    vis.poll_events()\n",
    "    vis.update_renderer()\n",
    "    \n",
    "    # Capture the current visualization as an image\n",
    "    image = vis.capture_screen_float_buffer(do_render=True)\n",
    "    images.append(np.asarray(image)*255)  # Convert to uint8 for imageio compatibility\n",
    "\n",
    "vis.destroy_window()\n"
   ]
  },
  {
   "cell_type": "code",
   "execution_count": null,
   "metadata": {},
   "outputs": [],
   "source": [
    "# import imageio\n",
    "# imageio.mimsave('point_cloud.gif', images, duration=0.1)  # Adjust duration as needed (in seconds)"
   ]
  },
  {
   "cell_type": "code",
   "execution_count": 733,
   "metadata": {},
   "outputs": [],
   "source": [
    "mesh_frame = o3d.geometry.TriangleMesh.create_coordinate_frame(size=1, origin=pcd.get_center())\n",
    "\n",
    "visualizer([pcd, mesh_frame])"
   ]
  },
  {
   "cell_type": "code",
   "execution_count": 720,
   "metadata": {},
   "outputs": [],
   "source": [
    "# -Z\n",
    "# np.asarray(pcd.points)[:, 2] = -np.asarray(pcd.points)[:, 2]"
   ]
  },
  {
   "cell_type": "code",
   "execution_count": 732,
   "metadata": {},
   "outputs": [],
   "source": [
    "visualizer(pcd)"
   ]
  },
  {
   "cell_type": "code",
   "execution_count": 107,
   "metadata": {},
   "outputs": [],
   "source": [
    "points = np.asarray(pcd.points)\n",
    "colors = np.asarray(pcd.colors)"
   ]
  },
  {
   "cell_type": "code",
   "execution_count": 6,
   "metadata": {},
   "outputs": [],
   "source": [
    "x_shape, z_shape = 3000, 3500\n",
    "resolution = 11"
   ]
  },
  {
   "cell_type": "code",
   "execution_count": 144,
   "metadata": {},
   "outputs": [],
   "source": [
    "# x__length, z_length\n",
    "check_grid = np.zeros((x_shape, z_shape)) #They will set to 1 if that [x, y] grid is used; 0 -> false\n",
    "grid = np.zeros((x_shape, z_shape)) #the actual grid which will have indexes mapped to a map\n",
    "img = np.ones((x_shape, z_shape, 3), dtype=np.uint8) * 255\n",
    "data = {} #{-1:[('RGB'), ('XYZ')], } #the data. key is index number saved into grid and values are the RGB and xyz data\n",
    "# Along Y-Axis\n",
    "points_sort = points[np.argsort(points[:, 1])[::-1]]\n",
    "colors_sort = colors[np.argsort(points[:, 1])[::-1]]\n",
    "\n",
    "max_val = np.max(np.asarray(points_sort), axis=0)\n",
    "min_val = np.min(np.asarray(points_sort), axis=0)\n",
    "\n",
    "cent_x = (min_val[0]+max_val[0])/2\n",
    "range_x = np.abs(min_val[0]) + np.abs(max_val[0])\n",
    "x_r_new = x_shape - 1\n",
    "\n",
    "cent_z = (min_val[2]+max_val[2])/2\n",
    "range_z = np.abs(min_val[2]) + np.abs(max_val[2])\n",
    "z_r_new = z_shape - 1\n",
    "\n",
    "for idx, val in enumerate(points_sort):\n",
    "    x_c = int(((val[0] - cent_x) / range_x) * x_r_new + x_r_new/2)\n",
    "    z_c = int(((val[2] - cent_z) / range_z) * z_r_new + z_r_new/2)\n",
    "\n",
    "    if not check_grid[x_c, z_c]:\n",
    "\n",
    "        check_grid[x_c, z_c] = 1\n",
    "        data[idx] = [colors_sort[idx], val]\n",
    "        grid[x_c, z_c] = idx\n",
    "        col = np.uint8(colors_sort[idx]*255)\n",
    "        img[x_c, z_c] = col\n",
    "        # do around the point too\n",
    "\n",
    "        for dx in range(-resolution, resolution, 1):\n",
    "            for dz in range(-resolution, resolution, 1):\n",
    "\n",
    "                if 0 <= x_c + dx < x_shape and 0 <= z_c + dz < z_shape:\n",
    "                    if not check_grid[x_c + dx, z_c + dz]:\n",
    "                        check_grid[x_c + dx, z_c + dz] = 1\n",
    "                        img[x_c + dx, z_c + dz] = col\n",
    "\n",
    "# 15 sec\n",
    "\n",
    "image = Image.fromarray(img)\n",
    "img_path = \"numpy/numpy_image_31.jpg\"\n",
    "image.save(img_path)"
   ]
  },
  {
   "cell_type": "code",
   "execution_count": 118,
   "metadata": {},
   "outputs": [],
   "source": [
    "# # About +Z axis\n",
    "\n",
    "# x_shape, y_shape = 3000, 3500\n",
    "# resolution = 11\n",
    "\n",
    "# check_grid_2 = np.zeros((x_shape, y_shape)) #They will set to 1 if that [x, y] grid is used; 0 -> false\n",
    "# grid_2 = -np.zeros((x_shape, y_shape)) #the actual grid which will have indexes mapped to a map\n",
    "# img_2 = np.ones((x_shape, y_shape, 3), dtype=np.uint8) *255\n",
    "# data_2 = {} #{-1:[('RGB'), ('XYZ')], } #the data. key is index number saved into grid and values are the RGB and xyz data\n",
    "\n",
    "\n",
    "# # jUST CHANGING HERE\n",
    "# points_sort_2 = points[np.argsort(points[:, 2])]\n",
    "# colors_sort_2 = colors[np.argsort(points[:, 2])]\n",
    "# # jUST CHANGING HERE\n",
    "\n",
    "# point_cloud = o3d.geometry.PointCloud()\n",
    "# point_cloud.points = o3d.utility.Vector3dVector(points_sort_2)\n",
    "# point_cloud.colors = o3d.utility.Vector3dVector(colors_sort_2)\n",
    "# mesh_frame = o3d.geometry.TriangleMesh.create_coordinate_frame(size=1, origin=point_cloud.get_center())\n",
    "# visualizer([point_cloud, mesh_frame])\n",
    "# # break\n",
    "\n",
    "# max_val_2 = np.max(np.asarray(points_sort_2), axis=0)\n",
    "# min_val_2 = np.min(np.asarray(points_sort_2), axis=0)\n",
    "\n",
    "# cent_x_2 = (min_val_2[0]+max_val_2[0])/2\n",
    "# range_x_2 = np.abs(min_val_2[0]) + np.abs(max_val_2[0])\n",
    "# x_r_new_2 = x_shape - 1\n",
    "\n",
    "# cent_y_2 = (min_val_2[1]+max_val_2[1])/2\n",
    "# range_y_2 = np.abs(min_val_2[1]) + np.abs(max_val_2[1])\n",
    "# y_r_new_2 = y_shape - 1\n",
    "\n",
    "# for idx, val in enumerate(points_sort_2):\n",
    "#     x_c = int(((val[0] - cent_x_2) / range_x_2) * x_r_new_2 + x_r_new_2/2)\n",
    "#     y_c = int(((val[1] - cent_y_2) / range_y_2) * y_r_new_2 + y_r_new_2/2)\n",
    "\n",
    "#     if not check_grid_2[x_c, y_c]:\n",
    "#         check_grid_2[x_c, y_c] = 1\n",
    "#         data_2[idx] = [colors_sort_2[idx], val]\n",
    "#         grid_2[x_c, y_c] = idx\n",
    "#         col = np.uint8(colors_sort_2[idx]*255)\n",
    "#         img_2[x_c, y_c] = col\n",
    "        \n",
    "#         # do around the point too\n",
    "#         for dx in range(-resolution, resolution, 1):\n",
    "#             for dz in range(-resolution, resolution, 1):\n",
    "#                 if 0 <= x_c + dx < x_shape and 0 <= y_c + dz < z_shape:\n",
    "#                     if not check_grid_2[x_c + dx, y_c + dz]:\n",
    "#                         check_grid_2[x_c + dx, y_c + dz] = 1\n",
    "#                         img_2[x_c + dx, y_c + dz] = col\n",
    "\n",
    "# # 15 sec"
   ]
  },
  {
   "cell_type": "code",
   "execution_count": 145,
   "metadata": {},
   "outputs": [
    {
     "name": "stdout",
     "output_type": "stream",
     "text": [
      "loading Roboflow workspace...\n",
      "loading Roboflow project...\n"
     ]
    }
   ],
   "source": [
    "rf = Roboflow(api_key=\"p0DKMSH5Ym3FH9zh7ZLa\")\n",
    "project = rf.workspace().project(\"sweet-pepper-detection\")\n",
    "model = project.version(1).model\n",
    "predection_data = model.predict(img_path, confidence=80, overlap=30).json()\n",
    "\n",
    "# visualize your prediction\n",
    "model.predict(img_path, confidence=80, overlap=30).save(f\"predictions_new/{img_path}\")"
   ]
  },
  {
   "cell_type": "code",
   "execution_count": 146,
   "metadata": {},
   "outputs": [
    {
     "data": {
      "text/plain": [
       "{'predictions': [{'x': 1473,\n",
       "   'y': 1061,\n",
       "   'width': 508,\n",
       "   'height': 623,\n",
       "   'confidence': 0.9209105372428894,\n",
       "   'class': '49',\n",
       "   'class_id': 0,\n",
       "   'detection_id': '0e42e9a6-8235-444a-b511-1f475bc1e793',\n",
       "   'image_path': 'numpy/numpy_image_31.jpg',\n",
       "   'prediction_type': 'ObjectDetectionModel'}],\n",
       " 'image': {'width': '3500', 'height': '3000'}}"
      ]
     },
     "execution_count": 146,
     "metadata": {},
     "output_type": "execute_result"
    }
   ],
   "source": [
    "predection_data"
   ]
  },
  {
   "cell_type": "code",
   "execution_count": 147,
   "metadata": {},
   "outputs": [],
   "source": [
    "# 2D bounding box coordinates\n",
    "bounding_box = {\n",
    "    'z': predection_data['predictions'][0]['x'],\n",
    "    'x': predection_data['predictions'][0]['y'],\n",
    "    'width': predection_data['predictions'][0]['width'],\n",
    "    'height': predection_data['predictions'][0]['height'],\n",
    "}\n",
    "\n",
    "# Image dimensions (to scale 2D to 3D)\n",
    "# image_width = predection_data['image']['width']\n",
    "# image_height = predection_data['image']['height']\n",
    "\n",
    "# Calculate 3D coordinates (assuming z-coordinate is arbitrary)\n",
    "x_min = int(bounding_box['x'] - bounding_box['height']/2)\n",
    "z_min = int(bounding_box['z'] - bounding_box['width']/2)\n",
    "x_max = int(bounding_box['x']  + bounding_box['height']/2)\n",
    "z_max = int(bounding_box['z'] + bounding_box['width']/2)"
   ]
  },
  {
   "cell_type": "code",
   "execution_count": 148,
   "metadata": {},
   "outputs": [
    {
     "data": {
      "text/plain": [
       "(749, 1372, 1219, 1727)"
      ]
     },
     "execution_count": 148,
     "metadata": {},
     "output_type": "execute_result"
    }
   ],
   "source": [
    "x_min, x_max, z_min, z_max"
   ]
  },
  {
   "cell_type": "code",
   "execution_count": 167,
   "metadata": {},
   "outputs": [],
   "source": [
    "selected_colors = []\n",
    "selected_points = []\n",
    "# img_test = cv2.imread('predictions\\prediction22.jpg')\n",
    "\n",
    "for x in range(x_min, x_max, 1):\n",
    "    for z in range(z_min, z_max, 1):\n",
    "        idx = grid[x, z]\n",
    "        selected_colors.append(data[idx][0])\n",
    "        selected_points.append(data[idx][1])\n",
    "        # img_test[x, z] = [255, 0, 0] #BRG\n",
    "\n",
    "# cv2.imwrite(\"testimg.jpg\", img_test)\n",
    "# print(selected)"
   ]
  },
  {
   "cell_type": "code",
   "execution_count": 168,
   "metadata": {},
   "outputs": [
    {
     "name": "stdout",
     "output_type": "stream",
     "text": [
      "[Open3D WARNING] invalid color in PaintUniformColor, clipping to [0, 1]\n"
     ]
    }
   ],
   "source": [
    "point_cloud = o3d.geometry.PointCloud()\n",
    "point_cloud.points = o3d.utility.Vector3dVector(selected_points)\n",
    "point_cloud.paint_uniform_color((255, 0, 0))\n",
    "\n",
    "mesh_frame = o3d.geometry.TriangleMesh.create_coordinate_frame(size=1, origin=pcd.get_center())"
   ]
  },
  {
   "cell_type": "code",
   "execution_count": 169,
   "metadata": {},
   "outputs": [],
   "source": [
    "visualizer([point_cloud, pcd, mesh_frame])"
   ]
  },
  {
   "cell_type": "code",
   "execution_count": 161,
   "metadata": {},
   "outputs": [
    {
     "name": "stdout",
     "output_type": "stream",
     "text": [
      "[0.98351237 0.99766193 0.88431971]\n"
     ]
    },
    {
     "data": {
      "text/plain": [
       "array([[ 0.98351237,  0.99766193,  0.88431971],\n",
       "       [-0.01939701, -0.98214686,  0.04010914]])"
      ]
     },
     "execution_count": 161,
     "metadata": {},
     "output_type": "execute_result"
    }
   ],
   "source": [
    "max_val = np.max(np.asarray(pcd.points), axis=0)[1]\n",
    "min_val = np.min(np.asarray(pcd.points), axis=0)[1]\n",
    "\n",
    "max_x = np.max(selected_points, axis=0)\n",
    "min_x = np.min(selected_points, axis=0)\n",
    "\n",
    "print(max_x)\n",
    "\n",
    "np.array([max_x, min_x])\n",
    "# if along x-axis, i want all the x_axis values\n",
    "\n",
    "# for i in range(min_val, max_val):\n",
    "#     pass"
   ]
  },
  {
   "cell_type": "code",
   "execution_count": 165,
   "metadata": {},
   "outputs": [
    {
     "name": "stdout",
     "output_type": "stream",
     "text": [
      "[Open3D WARNING] invalid color in PaintUniformColor, clipping to [0, 1]\n"
     ]
    }
   ],
   "source": [
    "two = o3d.geometry.PointCloud()\n",
    "two.points = o3d.utility.Vector3dVector(np.array([max_x, min_x]))\n",
    "two.paint_uniform_color((255, 0, 0))\n",
    "o3d.visualization.draw_geometries([pcd, two])"
   ]
  },
  {
   "cell_type": "code",
   "execution_count": 170,
   "metadata": {},
   "outputs": [
    {
     "name": "stdout",
     "output_type": "stream",
     "text": [
      "[Open3D WARNING] invalid color in PaintUniformColor, clipping to [0, 1]\n"
     ]
    }
   ],
   "source": [
    "all = o3d.geometry.PointCloud()\n",
    "all.points = o3d.utility.Vector3dVector(np.array(selected_points))\n",
    "all.paint_uniform_color((255, 0, 0))\n",
    "o3d.visualization.draw_geometries([pcd, all])"
   ]
  },
  {
   "cell_type": "code",
   "execution_count": 173,
   "metadata": {},
   "outputs": [],
   "source": [
    "# Extract selected points\n",
    "selected_points_cloud = point_cloud\n",
    "\n",
    "# Compute axis-aligned bounding box (AABB)\n",
    "bbox = point_cloud.get_oriented_bounding_box()\n",
    "\n",
    "# Visualize point cloud and bounding box\n",
    "o3d.visualization.draw_geometries([pcd, bbox])\n",
    "\n",
    "# Get all points within the bounding box\n",
    "pcd_crop = pcd.crop(bbox)\n",
    "\n",
    "# Visualize points within bounding box\n",
    "o3d.visualization.draw_geometries([pcd_crop])"
   ]
  },
  {
   "cell_type": "code",
   "execution_count": 3,
   "metadata": {},
   "outputs": [],
   "source": [
    "def read_pcd(path):\n",
    "    pcd = o3d.io.read_point_cloud(path)\n",
    "\n",
    "    visualizer(pcd)\n",
    "\n",
    "    return pcd"
   ]
  },
  {
   "cell_type": "code",
   "execution_count": 74,
   "metadata": {},
   "outputs": [
    {
     "name": "stdout",
     "output_type": "stream",
     "text": [
      "[Open3D WARNING] GLFW Error: WGL: Failed to make context current: The requested transformation operation is not supported. \n",
      "[Open3D WARNING] GLFW Error: WGL: Failed to make context current: The requested transformation operation is not supported. \n",
      "[Open3D WARNING] GLFW Error: WGL: Failed to make context current: The requested transformation operation is not supported. \n",
      "[Open3D WARNING] GLFW Error: WGL: Failed to make context current: The requested transformation operation is not supported. \n"
     ]
    }
   ],
   "source": [
    "# paths = ['pcd_0.ply', 'pcd_1.ply', 'pcd_2.ply', 'pcd_3.ply', 'pcd_4.ply', 'pcd_5.ply', 'pcd_6.ply']\n",
    "paths = [\"../best bell pepper results/pcd_2.ply\", \"../best bell pepper results/pcd_4.ply\", \"../best bell pepper results/pcd_5.ply\" ]\n",
    "# paths = [\"final_pcd_bell_pepper.ply\"]\n",
    "all_pcd = []\n",
    "new_pcd = pcd\n",
    "for path in paths:\n",
    "    temp_pcd = read_pcd(path)\n",
    "\n",
    "    bbox = temp_pcd.get_axis_aligned_bounding_box()\n",
    "\n",
    "    visualizer([pcd, bbox])\n",
    "\n",
    "    new_pcd = new_pcd.crop(bbox)\n",
    "\n",
    "    visualizer(new_pcd)\n",
    "\n",
    "    all_pcd.append(np.asarray(temp_pcd.points))\n",
    "\n",
    "visualizer(new_pcd)"
   ]
  },
  {
   "cell_type": "code",
   "execution_count": 85,
   "metadata": {},
   "outputs": [],
   "source": [
    "def draw_one_bounding_box(pcd, all_points):\n",
    "\n",
    "    # all_point_cloud = o3d.geometry.PointCloud()\n",
    "\n",
    "    # for i in all_points:\n",
    "    #     all_point_cloud += i\n",
    "\n",
    "    bbox = all_points.get_axis_aligned_bounding_box()\n",
    "\n",
    "    # Get the 8 corners of the bounding box\n",
    "    corners = np.asarray(bbox.get_box_points())\n",
    "\n",
    "    # right face data[0], data[1], data[2], data[7]\n",
    "\n",
    "    # top right = 0, 2\n",
    "    # bottom right = 1, 7\n",
    "    # top left = 3, 5\n",
    "    # bottom left = 4, 6\n",
    "\n",
    "    # Define the edges of the bounding box\n",
    "    edges = [\n",
    "        [1, 7], [7, 4], [4, 6], [6, 1],  # Bottom rectangle\n",
    "        [0, 2], [2, 5], [5, 3], [3, 0],  # Top rectangle\n",
    "        [1, 0], [7, 2], [4, 5], [6, 3]   # Connections between top and bottom\n",
    "    ]\n",
    "\n",
    "    # Create a LineSet geometry to visualize edges\n",
    "    line_set = o3d.geometry.LineSet()\n",
    "    line_set.points = o3d.utility.Vector3dVector(corners)\n",
    "    line_set.lines = o3d.utility.Vector2iVector(edges)\n",
    "\n",
    "    # Assign color to the LineSet (red color)\n",
    "    colors = [[1, 0, 1] for _ in range(len(edges))]\n",
    "    line_set.colors = o3d.utility.Vector3dVector(colors)    # for cld in all_points:\n",
    "\n",
    "    #     # bbox = cld.get_oriented_bounding_box()\n",
    "    #     bbox = cld.get_axis_aligned_bounding_box()\n",
    "\n",
    "    #     visualizer([pcd, bbox])\n",
    "\n",
    "    #     pcd = pcd.crop(bbox)\n",
    "\n",
    "    #     visualizer(pcd)\n",
    "\n",
    "    # final = bbox+pcd\n",
    "\n",
    "    # o3d.io.write_point_cloud(f\"final_pcd_bell_pepper_w_bb.ply\", final)\n",
    "\n",
    "    visualizer([pcd, line_set])\n",
    "\n",
    "draw_one_bounding_box(pcd, new_pcd)"
   ]
  },
  {
   "cell_type": "code",
   "execution_count": 29,
   "metadata": {},
   "outputs": [
    {
     "data": {
      "text/plain": [
       "[array([0.0022259 , 0.14425428, 0.63905795]),\n",
       " array([0.25812735, 0.14425428, 0.63905795]),\n",
       " array([0.0022259 , 0.35796847, 0.63905795]),\n",
       " array([0.0022259 , 0.14425428, 0.88380245]),\n",
       " array([0.25812735, 0.35796847, 0.88380245]),\n",
       " array([0.0022259 , 0.35796847, 0.88380245]),\n",
       " array([0.25812735, 0.14425428, 0.88380245]),\n",
       " array([0.25812735, 0.35796847, 0.63905795])]"
      ]
     },
     "execution_count": 29,
     "metadata": {},
     "output_type": "execute_result"
    }
   ],
   "source": [
    "data"
   ]
  },
  {
   "cell_type": "code",
   "execution_count": null,
   "metadata": {},
   "outputs": [],
   "source": []
  }
 ],
 "metadata": {
  "kernelspec": {
   "display_name": "farmbot",
   "language": "python",
   "name": "python3"
  },
  "language_info": {
   "codemirror_mode": {
    "name": "ipython",
    "version": 3
   },
   "file_extension": ".py",
   "mimetype": "text/x-python",
   "name": "python",
   "nbconvert_exporter": "python",
   "pygments_lexer": "ipython3",
   "version": "3.11.9"
  }
 },
 "nbformat": 4,
 "nbformat_minor": 2
}
